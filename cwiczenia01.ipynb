{
 "cells": [
  {
   "cell_type": "markdown",
   "id": "c838e4c2",
   "metadata": {},
   "source": [
    "# Ćwiczenia 1 - systemy liczbowe"
   ]
  },
  {
   "cell_type": "markdown",
   "id": "a95aa3ca",
   "metadata": {},
   "source": [
    "Celem pierwszych ćwiczeń jest przypomnienie wiadomości dotyczących systemów pozycyjnych. Powtórzymy algorytmy konwersji między systemami o różnych podstawach, przeanalizujemy różne problemy jakie mogą się pojawiać."
   ]
  },
  {
   "cell_type": "markdown",
   "id": "c909659c",
   "metadata": {},
   "source": [
    "**Systemem liczbowym** nazywać będziemy metodę zapisu (reprezentacji) liczb za pomocą umownych znaków.\n",
    "Szczególnie znaczenie mają tzw. *systemy pozycyjne*, np. system dziesiątkowy, szesnastkowy, dwójkowy. Pozwalają one między innymi na szybkie i łatwe prowadzenie obliczeń (algorytmy działań pisemnych), co pozwala zautomatyzować ten proces. Do tego najprostszy z systemów pozycyjnych - **system binarny (dwójkowy)** - ma szczególną wagę, gdyż układy cyfrowe konstruowane są w oparciu o dwuelementowe algebry Boole'a. Elementy tych algebr odpowiadają cyfrom systemu binarnego.\n",
    "\n",
    "Dokonajmy krótkiej analiza systemu dziesiętnego, aby lepiej zrozumieć ogólny przypadek\n",
    "Jak wiemy w systemie dziesiętnym mamy $10$ znaków (cyfr) do zapisu danej liczby:\n",
    "\n",
    "$$\n",
    "C_{10}=\\{ 0,1,2,3,\\dots,9 \\}\n",
    "$$\n",
    "\n",
    "Wiemy też, że każda kolejna pozycja w zapisie odpowiada kolejnym potęgom liczby $10$.\n",
    "Mamy więc dwa ,,parametry\" służące do zapisywania liczb - **podstawę systemu**  równą $10$, od której pochodzi nazwa  oraz **zbiór cyfr $C_{10}$**.\n",
    "\n",
    "Przykładowo\n",
    "$$\n",
    " 4273= 3 \\cdot 10^0 +7 \\cdot 10^1 +2 \\cdot 10^2 +4 \\cdot 10^3\n",
    "$$"
   ]
  },
  {
   "cell_type": "markdown",
   "id": "7c675537",
   "metadata": {},
   "source": [
    "Możemy sformułować to nieco ogólniej - do zdefiniowania dowolnego systemu potrzebujemy podstawy $q \\in \\mathbb{N}\\setminus\\{0,1\\}$ oraz $q$-elementowego zbióru $C_q$ zawierającego znaki (cyfry) do zapisu liczb w danym systemie. \n",
    "Zauważmy, że cyfry reprezentują liczby $0,\\dots, q-1$. </br>\n",
    "Zatem zapis \n",
    "\n",
    "$$\n",
    "(c_0c_1\\dots c_n)_q\n",
    "$$\n",
    "\n",
    "oznacza liczbę $N$ równą\n",
    "\n",
    "$$\n",
    " N=c_0 \\cdot q^0 +c_1 \\cdot q^1+ \\cdots+ c_{n-1}\\cdot q^{n-1} +c_n \\cdot q^n. \\qquad (*)\n",
    "$$"
   ]
  },
  {
   "cell_type": "markdown",
   "id": "e42386b0",
   "metadata": {},
   "source": [
    "Dla $q \\leq 10$ używa się na ogół cyfr systemu dziesiątkowego, gdy $q > 10$ posiłkujemy się innymi znakami. Przykładowo gdy $q=16$ $C_{16} = \\{0,\\dots,9,A,B,C,D,E,F\\}$, przy czym cyfry $A$, $B$,...,$E$, $F$ odpowiadają liczbom $10$, $11$,...,$14$, $15$ w systemie dziesiątnym."
   ]
  },
  {
   "cell_type": "markdown",
   "id": "2741564a",
   "metadata": {},
   "source": [
    "## Konwersja między systemami pozycyjnymi o różnych podstawach\n",
    "\n",
    "Wykonajmy najpierw prosty przykład: znaleźć wartość zapis dziesiętny liczby zapisanej w systemie binarnym za pomocą ciągu $(1011011)_2$. Wystarczy zatem podstawić do wyprowadzonego wyżej wzoru."
   ]
  },
  {
   "cell_type": "code",
   "execution_count": 104,
   "id": "71f3ac4b",
   "metadata": {},
   "outputs": [
    {
     "data": {
      "text/plain": [
       "91"
      ]
     },
     "execution_count": 104,
     "metadata": {},
     "output_type": "execute_result"
    }
   ],
   "source": [
    "1* 2 ** 0 + 1 * 2 ** 1 + 0 * 2 ** 2 + 1 * 2 ** 3 + 1 * 2 ** 4 + 0 * 2 ** 5 +  1 * 2 ** 6"
   ]
  },
  {
   "cell_type": "markdown",
   "id": "ac06ed1e",
   "metadata": {},
   "source": [
    "Zamiana \"w tę stronę\" jest dosyć prosta. Odpowiedzmy zatem jaką liczbą w systemie piątkowym jest liczba dziesiętna 7686."
   ]
  },
  {
   "cell_type": "code",
   "execution_count": 5,
   "id": "69ca06ff",
   "metadata": {},
   "outputs": [
    {
     "data": {
      "text/plain": [
       "(25, 125, 625, 3125)"
      ]
     },
     "execution_count": 5,
     "metadata": {},
     "output_type": "execute_result"
    }
   ],
   "source": [
    "5 ** 2, 5 ** 3, 5 ** 4, 5 ** 5"
   ]
  },
  {
   "cell_type": "markdown",
   "id": "7cf1bb0f",
   "metadata": {},
   "source": [
    "Spróbujmy dopasować w kolejnych krokach cyfry."
   ]
  },
  {
   "cell_type": "code",
   "execution_count": 11,
   "id": "fb30dae4",
   "metadata": {},
   "outputs": [
    {
     "data": {
      "text/plain": [
       "7686"
      ]
     },
     "execution_count": 11,
     "metadata": {},
     "output_type": "execute_result"
    }
   ],
   "source": [
    "2 * 5 ** 5 + 2 * 5 ** 4 + 1 * 5 ** 3 + 2 * 5 ** 2 + 2 * 5 ** 1 + 1 * 5 ** 0"
   ]
  },
  {
   "cell_type": "markdown",
   "id": "25476a42",
   "metadata": {},
   "source": [
    "Zatem liczba 7686 ma w systemie piątkowym zapis: $(221221)_5$.\n",
    "\n",
    "Widzimy, że takie podejście jest skuteczne, ale nie jest zbyt wygodne. Spróbujmy znaleźć jakiś efektywniejszy algorytm.\n",
    "\n",
    "Przypuśćmy, że liczba $N$ zapisana w systemie dziesiętnym ma następującą reprezentację \n",
    "\n",
    "$$\n",
    "N=(c_n\\dots c_1c_0)_q=c_0 \\cdot q^0 +c_1 \\cdot q^1+ \\cdots+ c_{n-1}\\cdot q^{n-1} +c_n \\cdot q^n\n",
    "$$\n",
    "\n",
    "w systemie o podstawie $q$. Naszym celem jest znalezienie cyfr $c_0,\\dots,c_n$ i w szczególności także liczby $n$.</br>\n",
    "Z postaci sumy w powyższym rozwinięciu wynika, że **reszta z dzielenia $N$ przez $q$ będzie wynosiła $c_0$** (dlaczego?). </br>\n",
    "Po podzieleniu $N$ przez $q$ i odrzuceniu reszty otrzymujemy sumę\n",
    "\n",
    "$$\n",
    "c_1 \\cdot q^0+ \\cdots+ c_{n-1}\\cdot q^{n-2} +c_n \\cdot q^{n-1}.\n",
    "$$\n",
    "Po ponownym dzieleniu przez $q$ dostajemy $c_1$ itd. Po odpowiedniej liczbie kroków (jakiej?) dostaniemy iloraz równy zero i ostatnią resztę. Wszystkie reszty zapisane w odwrotnej kolejności dają  rozwinięcie liczby $N$ w systemie $q$.\n"
   ]
  },
  {
   "cell_type": "code",
   "execution_count": 35,
   "id": "90ecf70b",
   "metadata": {},
   "outputs": [
    {
     "data": {
      "text/plain": [
       "(16384, 32767)"
      ]
     },
     "execution_count": 35,
     "metadata": {},
     "output_type": "execute_result"
    }
   ],
   "source": [
    "2 ** 14, 2 ** 15 - 1"
   ]
  },
  {
   "cell_type": "markdown",
   "id": "5203f39a",
   "metadata": {},
   "source": [
    "Zatem liczba ta będzie liczbą pięciocyfrową w systemie dziesiętnym.\n",
    "\n",
    "Spróbujmy uogólnić rozumowanie. Niech $2^n \\leq x < 2^{n+1} -1$. Wiadomo, że dla dowolnego $n \\in \\mathbb{N}$, liczba $2^n$ jest liczbą $(n+1)$-cyfrową w systemie binarnym (jedynka i dziesięć zer). Wiemy, że \n",
    "$$\n",
    "\\log_22^n=n\n",
    "$$\n",
    "oraz \n",
    "$$\n",
    "\\log_2 (2^{n+1}-1) \\leq \\log_2 (2^{n+1})=n+1.\n",
    "$$\n",
    "\n",
    "Zatem $n \\leq \\log_2 x < n+1$. Ogólnie więc liczba cyfr binarnych liczby x wyraża się wzorem $[\\log_2 x] + 1$, gdzie $[x]$ oznacza część całkowitą (podłogę) liczby $x$.\n",
    "\n",
    "Analogicznie liczba cyfr dziesiętnych liczby $x$ wyraża się wzorem $[\\log x] + 1$, gdzie $[x]$ oznacza część całkowitą (podłogę) liczby $x$."
   ]
  },
  {
   "cell_type": "markdown",
   "id": "31cc618f",
   "metadata": {},
   "source": [
    "### System ósemkowy i szesnastkowy"
   ]
  },
  {
   "cell_type": "markdown",
   "id": "e997ca78",
   "metadata": {},
   "source": [
    "Spróbumy teraz znaleźć ciekawe relacje między systemami, których podstawy są liczbami postaci $q$ oraz $q^k$ dla pewnej naturalnej liczby $k \\geq 2$.\n",
    "\n",
    "Jako przykład rozważmy $q_1=2$ oraz $q_2=2^3=8$. Cyfry systemu ósemkowego można zapisać w systemie binarnym:\n",
    "\n",
    "\\begin{gather*}\n",
    "(0)_8&=(0)_2\\\\\n",
    "(1)_8&=(1)_2\\\\\n",
    "(2)_8&=(10)_2\\\\\n",
    "(3)_8&=(11)_2\\\\\n",
    "(4)_8&=(100)_2\\\\\n",
    "(5)_8&=(101)_2\\\\\n",
    "(6)_8&=(110)_2\\\\\n",
    "(7)_8&=(111)_2.\n",
    "\\end{gather*}\n",
    "\n",
    "Widzimy, że cyfra ósemkowa daje się zapisać na trzech bitach. Każdy więc fragment rozwinięcia binarnego postaci:\n",
    "\n",
    "$$\n",
    "\\dots+ c_{3k} \\cdot 2^{3k} + c_{3k+1} \\cdot 2^{3k+1} + c_{3k+2 } \\cdot 2^{3k+2} +\\dots \n",
    "$$\n",
    "\n",
    "możemy po wyłączeniu przed nawias zastąpić fragmentem\n",
    "\n",
    "$$\n",
    "\\dots+  8^{k}(c_{3k}  + c_{3k+1} \\cdot 2 + c_{3k+2} \\cdot 4) +\\dots.\n",
    "$$\n",
    "\n",
    "Wyrażenie w nawiasie odpowiada którejś z cyfr ósemkowych utworzonych z trzech bitów binarnych. Zatem po utożsamieniu\n",
    "\n",
    "\\begin{gather*}\n",
    "(0)_8&=(000)_2\\\\\n",
    "(1)_8&=(001)_2\\\\\n",
    "(2)_8&=(010)_2\\\\\n",
    "(3)_8&=(011)_2\\\\\n",
    "(4)_8&=(100)_2\\\\\n",
    "(5)_8&=(101)_2\\\\\n",
    "(6)_8&=(110)_2\\\\\n",
    "(7)_8&=(111)_2,\n",
    "\\end{gather*}\n",
    "\n",
    "możemy w łatwy sposób dokonać konwersji między systemami w odpowiedni sposób zastępując fragmenty ciągów. Należy pamiętać, że w przypadku konwersji z systemu binarnego na oktalny należy, zastępować odpowiednie trójki bitów binarnych zaczynając od prawej strony (najmniej znaczącej trójki bitów), a gdy liczba bitów nie jest podzielna przez trzy, należy opuścić zera z przodu zapisu. Gdy zaś przechodzimy z systemu ósemkowego na dwójkowy, również pomijamy bity zerowe z przodu zapisu.\n",
    "\n",
    "Jak wspominaliśmy na początku, w systemie szesnastkowym (heksadecymalnym) mamy do dyspozycji szesnaście cyfr, z których cyfry odpowiadające liczbom $10,\\dots,15$ to pierwsze  wielkie litery alfabetu łacińskiego $A,\\dots,F$. Ponieważ zapis binarny jest ponad trzykrotnie dłuższy niż dziesiętny, zastępuje się go czasem zapisem szesnastkowym, który średnio jest cztery razy krótszy. Wykonajmy kilka prostych przykładów z systemem szesnatkowym.\n",
    "\n",
    "1. $(ABCDEF)_{16} = (\\dots)_{10}$\n",
    " \n",
    "Mamy\n",
    "\n",
    "$$\n",
    "(ABCDEF)_{16}=15\\cdot 16^0+14 \\cdot 16^1+ 13\\cdot 16^2+12\\cdot 16^3+11\\cdot 16^4+ 10\\cdot 16^5=(11 259 375)_{10}.\n",
    "$$\n",
    "\n",
    "2. $(2343)_{10} = (\\dots)_{16}$. Wykonajmy kolejne dzielenia:"
   ]
  },
  {
   "cell_type": "code",
   "execution_count": 107,
   "id": "8c9a54f4",
   "metadata": {},
   "outputs": [
    {
     "data": {
      "text/plain": [
       "(7, 146)"
      ]
     },
     "execution_count": 107,
     "metadata": {},
     "output_type": "execute_result"
    }
   ],
   "source": [
    "2343 % 16, 2343 // 16"
   ]
  },
  {
   "cell_type": "code",
   "execution_count": 108,
   "id": "2555583b",
   "metadata": {},
   "outputs": [
    {
     "data": {
      "text/plain": [
       "(2, 9)"
      ]
     },
     "execution_count": 108,
     "metadata": {},
     "output_type": "execute_result"
    }
   ],
   "source": [
    "146 % 16, 146 // 16"
   ]
  },
  {
   "cell_type": "code",
   "execution_count": 109,
   "id": "a3634457",
   "metadata": {},
   "outputs": [
    {
     "data": {
      "text/plain": [
       "9"
      ]
     },
     "execution_count": 109,
     "metadata": {},
     "output_type": "execute_result"
    }
   ],
   "source": [
    "9 % 16"
   ]
  },
  {
   "cell_type": "markdown",
   "id": "f8944332",
   "metadata": {},
   "source": [
    "Zatem widzimy, że $(2343)_{10} = (927)_{16}$."
   ]
  },
  {
   "cell_type": "markdown",
   "id": "d20f0086",
   "metadata": {},
   "source": [
    "W analogiczny sposób możemy każdą cyfrę systemu szesnastkowego reprezentować na czterech bitach binarnych i w podobny sposób dokonywać konwersji między systemami o podstawach $2$ i $16$. Zostawiamy to do samodzielnego rozwiązania."
   ]
  },
  {
   "cell_type": "markdown",
   "id": "d811d766",
   "metadata": {},
   "source": [
    "### Ułamki w systemach pozycyjnych\n",
    "\n",
    "Formułę $(*)$ możemy również rozwinąć dodając składniki, w których $q$ występuje w potęgach ujemnych oczywiście pokrywa się to z naszym rozumieniem ułamków dziesiętnych. Istotnie jeśli $q=10$, $N=4273.915$, to\n",
    "\n",
    "$$\n",
    "N = 5 \\cdot 10^{-3} +1 \\cdot 10^{-2} +9 \\cdot 10^{-1}  +  3 \\cdot 10^0 +7 \\cdot 10^1 +2 \\cdot 10^2 +4 \\cdot 10^3.\n",
    "$$\n",
    "\n",
    "Zatem dowolna liczba $N$ o skończonym rozwinięciu w systemie $q$ daje się zapisać następującym wzorem:\n",
    "\n",
    "$$\n",
    "N = \\sum_{i=-k}^n c_i \\cdot q^i,\n",
    "$$\n",
    "\n",
    "gdzie $c_i \\in C_q$.\n",
    "\n",
    "Spróbujmy, podobnie jak poprzednio dokonać konwersji \"na piechotę\" ułamków dziesiętnych na binarne. \n",
    "\n",
    "Niech $N=0.625$. Wiemy, że $N=\\frac{5}{8}=\\frac{1}{2}+\\frac{1}{8}=0.101$.\n",
    "\n",
    "Przyjmijmy teraz $N=0.3$. Spróbujmy metodą prób i błędów."
   ]
  },
  {
   "cell_type": "code",
   "execution_count": 77,
   "id": "6c17767b",
   "metadata": {},
   "outputs": [
    {
     "data": {
      "text/plain": [
       "0.3125"
      ]
     },
     "execution_count": 77,
     "metadata": {},
     "output_type": "execute_result"
    }
   ],
   "source": [
    "2 ** -2 + 2 ** -4"
   ]
  },
  {
   "cell_type": "code",
   "execution_count": 86,
   "id": "3eb8c8c6",
   "metadata": {},
   "outputs": [
    {
     "data": {
      "text/plain": [
       "0.29998779296875"
      ]
     },
     "execution_count": 86,
     "metadata": {},
     "output_type": "execute_result"
    }
   ],
   "source": [
    "2 ** -2 + 2 ** -5 + 2 ** -6 + 2 ** -9  + 2 ** -10 + 2** - 13 + 2 ** -14"
   ]
  },
  {
   "cell_type": "markdown",
   "id": "1717bb0d",
   "metadata": {},
   "source": [
    "Nie możemy zakończyć tego procesu. Ułamek może jest okresowy? Zauważmy, że wykładniki, które się kolejno pojawiają są równe $-2,-5,-6,-9,-10,-14,-15,\\dots$ . Czy nasz ułamek to\n",
    "\n",
    "$$\n",
    "0.01001100110011... ?\n",
    "$$"
   ]
  },
  {
   "cell_type": "markdown",
   "id": "e088d30e",
   "metadata": {},
   "source": [
    "Możemy sprawdzić w pętli, czy taki ułamek zawsze będzie mniejszy niż 0.3 i czy \"zbliża się\" do tej wartości. "
   ]
  },
  {
   "cell_type": "code",
   "execution_count": 103,
   "id": "4ceabd79",
   "metadata": {},
   "outputs": [
    {
     "name": "stdout",
     "output_type": "stream",
     "text": [
      "False\n",
      "0.0\n"
     ]
    }
   ],
   "source": [
    "s = 0.25 #0.01\n",
    "for i in range(5, 10):  #wstawić w miejsce 10 różne wartości, aż do 70-80\n",
    "    if (i % 4 == 1 or i % 4 == 2):\n",
    "        s += 2 ** (-i)\n",
    "    else:\n",
    "        pass\n",
    "print(s < 0.3)\n",
    "print(0.3- s)    \n",
    "#czy dla dużego i pojawi się False? Co to może oznaczać?    "
   ]
  },
  {
   "cell_type": "code",
   "execution_count": 106,
   "id": "3732aa54",
   "metadata": {},
   "outputs": [
    {
     "data": {
      "text/plain": [
       "True"
      ]
     },
     "execution_count": 106,
     "metadata": {},
     "output_type": "execute_result"
    }
   ],
   "source": [
    "s < 3.00000000001"
   ]
  },
  {
   "cell_type": "markdown",
   "id": "741e3497",
   "metadata": {},
   "source": [
    "W pewnym momencie pojawia się wartość 0 oraz False. Czy to znaczy, że przekroczyliśmy 0.3?\n",
    "\n",
    "Użyjmy do tego wzoru na sumę szeregu geometrycznego (iloraz jest równy 1/16):\n",
    "\n",
    "$$\n",
    "(0.001001100110011\\dots)_2 = 0.25 + 2 ^ {-4} \\cdot 0.75 \\cdot \\sum_{i=0}^{+\\infty} \\frac{1}{16^i} = \\frac{1}{4} + \\frac{3}{64} \\cdot \\frac{1}{1 - \\tfrac{1}{16}}= \\frac{1}{4} + \\frac{1}{20}=0.3.\n",
    "$$"
   ]
  },
  {
   "cell_type": "markdown",
   "id": "70890c04",
   "metadata": {},
   "source": [
    "Widzimy, że sytuacja w przypadku ułamków trochę się komplikuje."
   ]
  },
  {
   "cell_type": "markdown",
   "id": "25424fc8",
   "metadata": {},
   "source": [
    "Spróbujmy zastanowić się nad algorytmem konwersji części ułamkowej. Załóżmy, że tym razem liczba $N$ jest postaci \n",
    "\n",
    "$$\n",
    "N=(0.a_{-1}a_{-2}\\dots a_{-m})_{10}. \\qquad (**)\n",
    "$$\n",
    "\n",
    "Chcemy znaleźć jej rozwinięcie w systemie o podstawie $q$. Zatem przypuśćmy, że jest ono postaci\n",
    "\n",
    "$$\n",
    "N= \\sum_{i=1}^\\infty c_{-i} q^ {-i}= c_{-1}\\cdot q ^{-1} + c_{-2}\\cdot q ^{-2} + \\dots . \\qquad (***)\n",
    "$$\n",
    "\n",
    "Przemnóżmy stronami równanie $(***)$ przez $q$ oraz jednocześnie wykonajmy to mnożenie dla $N$ przedstawionego w postaci $(**)$. Jesteśmy w stanie łatwo zweryfikować, że część całkowita liczby $qN$ jest równa $c_{-1}$. Odrzucamy tę część z postaci $(***)$ otrzymując:\n",
    "\n",
    "$$\n",
    "qN - c_{-1} = c_{-2}q^{-1} + c_{-3}q^{-2} + \\dots.\n",
    "$$\n",
    "\n",
    "Mnożąc ponownie powyższą sumę przez q w podobny sposób sczytujemy $c_{-2}$. Operację tę powtarzać będziemy tak długo, aż po przemnożeniu przez $q$ otrzymamy wartość całkowitą (będzie to ostatnia cyfra rozwinięcia) lub gdy proces wróci do miejsca, w którym byliśmy poprzednio, co oznacza, że ułamek ma rozwinięcie nieskończone okresowe.\n",
    "\n",
    "Spróbujmy wykonać to na przykładzie."
   ]
  },
  {
   "cell_type": "markdown",
   "id": "a618f9a2",
   "metadata": {},
   "source": [
    "**Przykłady:** Znaleźć binarne rozwinięcie ułamków $0.375$ oraz $\\frac{1}{3}$.\n",
    "\n",
    "\\begin{gather*}\n",
    "0.375 \\cdot 2=0.75 \\qquad 0\\\\\n",
    "0.75 \\cdot 2 = 1.5 \\phantom{xx} \\qquad 1\\\\\n",
    "0.5 \\cdot 2 = 1 \\phantom{xxxx}   \\qquad 1\n",
    "\\end{gather*}\n",
    "\n",
    "Zatem $(0.375)_{10}=(0.011)_2$.\n",
    "\n",
    "Znajdźmy rozwinięcie binarne $\\frac{1}{3}$:\n",
    "\\begin{gather*}\n",
    "\\frac{1}{3} \\cdot 2=\\frac{2}{3} \\qquad 0\\\\\n",
    "\\frac{2}{3}  \\cdot 2 = \\frac{4}{3}   \\qquad 1\\\\\n",
    "\\frac{1}{3} \\cdot 2=\\frac{2}{3} \\qquad 0\\\\\n",
    "\\frac{2}{3}  \\cdot 2 = \\frac{4}{3}   \\qquad 1\\\\\n",
    "\\end{gather*}\n",
    "\n",
    "Nietrudno zauważyć, że proces ten będzie się powtarzał w nieskończoność. A zatem $\\frac{1}{3}= (0.010101\\dots)_2=(0.(01))_2$."
   ]
  },
  {
   "cell_type": "markdown",
   "id": "fec2e3de",
   "metadata": {},
   "source": [
    "Korzystając ze wzoru na sumę szeregu geometrycznego możemy sprawdzić czy rzeczywiście rozwijając powyższy ułamek binarny dostaniemy sumę $\\frac{1}{3}$:\n",
    "\n",
    "$$\n",
    "(0.010101\\dots)_2 = 1 \\cdot 2^{-2} + 1 \\cdot 2^{-4} + 1 \\cdot 2^{-6} +\\dots = A.\n",
    "$$\n",
    "\n",
    "Widzimy, że kolejne wyrazy ciągu geometrycznego tworzącego szereg są równe  $\\frac{1}{4}$, $\\frac{1}{16}$, $\\frac{1}{64}$... . Zatem $a_1=\\frac{1}{4}$ oraz $q= \\frac{1}{4}$:\n",
    "\n",
    "$$\n",
    "S =\\frac{\\tfrac{1}{4}}{1 - \\tfrac{1}{4}}= \\frac{1}{4} \\cdot \\frac{4}{3} = \\frac{1}{3}.\n",
    "$$"
   ]
  }
 ],
 "metadata": {
  "kernelspec": {
   "display_name": "Python 3 (ipykernel)",
   "language": "python",
   "name": "python3"
  },
  "language_info": {
   "codemirror_mode": {
    "name": "ipython",
    "version": 3
   },
   "file_extension": ".py",
   "mimetype": "text/x-python",
   "name": "python",
   "nbconvert_exporter": "python",
   "pygments_lexer": "ipython3",
   "version": "3.9.7"
  }
 },
 "nbformat": 4,
 "nbformat_minor": 5
}
