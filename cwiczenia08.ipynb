{
 "cells": [
  {
   "cell_type": "markdown",
   "id": "87414d88",
   "metadata": {},
   "source": [
    "# Sieci komputerowe. Protokoły sieciowe\n",
    "\n",
    "Zadania wykonujemy dzisiaj wykorzystując `Terminal` systemu Linux."
   ]
  },
  {
   "cell_type": "markdown",
   "id": "8a27bb6b",
   "metadata": {},
   "source": [
    "**Zadanie 1.** Podaj nazwy oraz adresy MAC wszystkich urządzeń sieciowych przy użyciu polecenia `ip link`."
   ]
  },
  {
   "cell_type": "markdown",
   "id": "abe4e018",
   "metadata": {},
   "source": [
    "Polecenie `ip link` w systemie Linux jest używane do wyświetlania i modyfikowania stanu interfejsów sieciowych. Kiedy studenci użyją tego polecenia, zobaczą różne informacje związane z interfejsami sieciowymi dostępnymi w systemie. Oto kilka aspektów, które mogą zobaczyć w wyniku działania tego polecenia:\n",
    "\n",
    "1. **Nazwa interfejsu**: Każdy interfejs sieciowy ma swoją unikalną nazwę, np. `eth0` dla pierwszego interfejsu Ethernet, `wlan0` dla interfejsu sieci bezprzewodowej itp.\n",
    "\n",
    "2. **Stan interfejsu**: Polecenie pokazuje, czy interfejs jest aktywny (UP) czy nieaktywny (DOWN).\n",
    "\n",
    "3. **Adres MAC**: Każdy interfejs sieciowy ma przypisany unikalny adres MAC (Media Access Control), który jest wyświetlany w wynikach.\n",
    "\n",
    "4. **Statystyki**: Polecenie może również wyświetlać statystyki dotyczące przesyłanych i odbieranych pakietów i błędów.\n",
    "\n",
    "5. **Opcje konfiguracyjne**: Można zobaczyć dodatkowe opcje konfiguracyjne, takie jak MTU (Maximum Transmission Unit), flagi interfejsu itp.\n",
    "\n",
    "Adres MAC jest 48-bitowym adresem sprzętowym przypisanym do karty sieciowej przez producenta. Jest on unikalny na całym świecie i służy do identyfikacji urządzeń na poziomie warstwy łącza danych (warstwa 2) w modelu OSI lub Ethernet w modelu TCP/IP.\n",
    "\n",
    "Oto kilka kluczowych aspektów związanych z adresem MAC:\n",
    "\n",
    "- **Unikalność**: Adres MAC powinien być unikalny na całym świecie, co pozwala na jednoznaczną identyfikację każdego urządzenia w sieci lokalnej.\n",
    "\n",
    "- **Komunikacja w sieci lokalnej**: Adres MAC jest używany do przesyłania ramek danych w sieci lokalnej (LAN). Urządzenia w tej samej sieci lokalnej komunikują się bezpośrednio za pomocą adresów MAC.\n",
    "\n",
    "- **Filtrowanie i bezpieczeństwo**: Adresy MAC mogą być używane do implementacji środków bezpieczeństwa, takich jak filtrowanie dostępu do sieci, gdzie tylko urządzenia z określonymi adresami MAC mogą się łączyć.\n",
    "\n",
    "- **Adresacja IP do MAC**: Protokół ARP (Address Resolution Protocol) jest używany do mapowania adresów IP na adresy MAC, co pozwala na komunikację między urządzeniami w sieci.\n",
    "\n",
    "- **Zmiana adresu MAC**: Chociaż adres MAC jest przypisany przez producenta, w wielu systemach operacyjnych można go zmienić (tzw. MAC spoofing), co może być używane do zwiększenia prywatności lub omijania kontroli dostępu."
   ]
  },
  {
   "cell_type": "markdown",
   "id": "da9491b1",
   "metadata": {},
   "source": [
    "**Zadanie 2.**\tSprawdź swój adres IP przy użyciu polecenia `ip address`. Następnie sprawdź swój adres IP przy użyciu <a href=\"https://whatismyipaddress.com/\">strony</a>. Czy jest on taki sam? Czy jest tak zawsze?"
   ]
  },
  {
   "cell_type": "markdown",
   "id": "61fdd1d7",
   "metadata": {},
   "source": [
    "Polecenie `ip address` (lub `ip addr`) w systemie Linux jest używane do wyświetlania i zarządzania adresami IP przypisanymi do interfejsów sieciowych na maszynie. Oto kilka aspektów i opcji związanych z tym poleceniem:\n",
    "\n",
    "1. **Wyświetlanie adresów IP**: Domyślnie, bez dodatkowych opcji, polecenie `ip address` wyświetla wszystkie interfejsy sieciowe wraz z przypisanymi do nich adresami IPv4 i IPv6, maskami podsieci, flagami stanu interfejsu (np. UP, DOWN) i innymi informacjami.\n",
    "\n",
    "2. **Dodawanie/usuwanie adresów IP**: Można użyć `ip address add [adres]/[maska] dev [interfejs]` do dodania nowego adresu IP do interfejsu, lub `ip address del [adres]/[maska] dev [interfejs]` do usunięcia adresu.\n",
    "\n",
    "3. **Wyświetlanie konkretnego interfejsu**: Aby wyświetlić informacje tylko o jednym interfejsie, można użyć `ip address show dev [interfejs]`.\n",
    "\n",
    "4. **Wyświetlanie adresów dynamicznych i statycznych**: Adresy IP mogą być przypisane statycznie (na stałe skonfigurowane na urządzeniu) lub dynamicznie (przydzielane przez serwer DHCP).\n",
    "\n",
    "5. **Wyświetlanie adresów prywatnych i publicznych**: W sieciach domowych i firmowych często stosuje się adresy prywatne, które są niewidoczne i nieosiągalne z Internetu. Adresy publiczne są widoczne w Internecie i są unikalne.\n",
    "\n",
    "Kiedy studenci sprawdzą adres IP swojego komputera za pomocą polecenia `ip address`, zobaczą adresy IP przypisane do ich interfejsów sieciowych. Te adresy mogą być prywatne (np. 192.168.x.x, 10.x.x.x, 172.16.x.x - 172.31.x.x) i są używane wewnątrz lokalnej sieci.\n",
    "\n",
    "Jeśli studenci użyją strony `https://whatismyipaddress.com/`, zobaczą swój publiczny adres IP. Ten adres jest przypisany do ich połączenia internetowego przez dostawcę usług internetowych (ISP) i jest używany do komunikacji w Internecie.\n",
    "\n",
    "Czy adresy będą takie same? Zazwyczaj nie, ponieważ:\n",
    "\n",
    "- Adres IP wyświetlony przez `ip address` jest zwykle adresem prywatnym używanym w lokalnej sieci.\n",
    "- Adres IP wyświetlony przez `whatismyipaddress.com` jest adresem publicznym, który jest widoczny w Internecie.\n",
    "\n",
    "Różnica wynika z faktu, że wiele sieci używa NAT (Network Address Translation), który umożliwia wielu użytkownikom w sieci lokalnej korzystanie z jednego publicznego adresu IP do komunikacji z Internetem. NAT przekształca prywatne adresy IP na publiczny adres IP na granicy sieci, co pozwala na oszczędność publicznych adresów IP i zapewnia dodatkową warstwę bezpieczeństwa.\n",
    "\n",
    "W niektórych przypadkach, jeśli maszyna jest bezpośrednio podłączona do Internetu bez użycia routera z NAT lub jeśli jest skonfigurowana z publicznym adresem IP (co jest rzadkie w typowych domowych lub biurowych konfiguracjach), adresy IP wyświetlane przez obie metody mogą być takie same."
   ]
  },
  {
   "cell_type": "markdown",
   "id": "1cc09be2",
   "metadata": {},
   "source": [
    "**Zadanie 3.** Znajdź adresy IP serwerów `wp.pl`, `onet.pl`, `wikipedia.org` przy użyciu polecenia `ping`."
   ]
  },
  {
   "cell_type": "markdown",
   "id": "b57b54d9",
   "metadata": {},
   "source": [
    "**Informacje ogólne**\n",
    "\n",
    "Polecenie `traceroute` w systemie Linux jest narzędziem służącym do diagnozowania ścieżki pakietów w sieci. Pozwala ono na śledzenie trasy, jaką pakiet danych przebywa od komputera użytkownika do określonego hosta w Internecie. Poniżej przedstawiam różne aspekty związane z wynikiem działania tego polecenia oraz kontekst teoretyczny i dodatkowe informacje.\n",
    "\n",
    "\n",
    "1. **Routing w sieciach IP**: Routing to proces wyznaczania ścieżki, którą pakiet danych będzie przemieszczał się przez sieć komputerową. W Internecie każdy pakiet danych przechodzi przez wiele routerów (urządzeń pośredniczących) zanim dotrze do celu.\n",
    "\n",
    "2. **Protokół ICMP**: `traceroute` wykorzystuje protokół ICMP (Internet Control Message Protocol) do wysyłania pakietów z prośbą o echo (echo request) i odbierania komunikatów o przekroczeniu czasu (time exceeded) od routerów pośredniczych.\n",
    "\n",
    "3. **TTL (Time to Live)**: Każdy pakiet IP ma ustawioną wartość TTL, która jest dekrementowana przez każdy router na ścieżce. Gdy wartość TTL osiągnie zero, router odrzuca pakiet i wysyła komunikat ICMP \"time exceeded\" z powrotem do nadawcy. `traceroute` wykorzystuje ten mechanizm, stopniowo zwiększając wartość TTL, aby odkryć kolejne routery na ścieżce.\n",
    "\n",
    "**Opcje polecenia** `traceroute`\n",
    "\n",
    "1. **-n**: Wyłącza próbę rozwiązania nazw hostów, wyświetlając tylko adresy IP, co przyspiesza działanie polecenia.\n",
    "\n",
    "2. **-m <max_ttl>**: Ustawia maksymalną wartość TTL pakietów, co pozwala ograniczyć liczbę przeskoków (hops) do zadanego limitu.\n",
    "\n",
    "3. **-q <nqueries>**: Określa liczbę zapytań wysyłanych na każdy przeskok. Domyślnie jest to 3 zapytania na hop.\n",
    "\n",
    "4. **-f <first_ttl>**: Ustawia początkową wartość TTL, co jest przydatne, jeśli chcemy pominąć pewne początkowe routery.\n",
    "\n",
    "5. **-I**: Używa pakietów ICMP zamiast domyślnych pakietów UDP.\n",
    "\n",
    "6. **-T**: Używa pakietów TCP SYN zamiast UDP, co może być przydatne do śledzenia tras w sieciach, które blokują ICMP lub UDP.\n",
    "\n",
    "7. **-p <port>**: Określa port docelowy dla pakietów UDP lub TCP.\n",
    "\n",
    "**Dodatkowe Informacje o** `traceroute`\n",
    "\n",
    "- **Zabezpieczenia sieciowe**: Niektóre routery lub firewalle mogą blokować pakietów ICMP lub UDP używanych przez `traceroute`, co może skutkować brakiem odpowiedzi lub \"*\".\n",
    "\n",
    "- **Różnice w implementacji**: Istnieją różne wersje `traceroute`, w tym `tracepath`, które mogą być dostępne w różnych dystrybucjach Linuxa i mogą oferować różne opcje.\n",
    "\n",
    "- **Zastosowanie**: `traceroute` jest używane do diagnozowania problemów z siecią, takich jak opóźnienia, pętle routingu czy punkty awarii.\n",
    "\n",
    "- **Interpretacja wyników**: Każdy wiersz w wyniku `traceroute` reprezentuje jeden router na ścieżce. Czas pokazany w wynikach to czas podróży pakietu tam i z powrotem (RTT - Round Trip Time) do danego routera."
   ]
  },
  {
   "cell_type": "markdown",
   "id": "ccf772e3",
   "metadata": {},
   "source": [
    "**Zadanie 4.**\tPrześledź swoją drogę routingu do serwera *wp.pl* (polecenie `traceroute`). Zidentyfikuj jak najwięcej serwerów pośredniczących przy użyciu <a href=\"https://www.infobyip.com/\">strony.</a>"
   ]
  },
  {
   "cell_type": "markdown",
   "id": "49dad354",
   "metadata": {},
   "source": [
    "**Informacje ogólne**\n",
    "\n",
    "1. **Routing w sieciach IP**: Routing to proces wyznaczania ścieżki, którą pakiet danych będzie przemieszczał się przez sieć komputerową. W Internecie każdy pakiet danych przechodzi przez wiele routerów (urządzeń pośredniczących) zanim dotrze do celu.\n",
    "\n",
    "2. **Protokół ICMP**: `traceroute` wykorzystuje protokół ICMP (Internet Control Message Protocol) do wysyłania pakietów z prośbą o echo (echo request) i odbierania komunikatów o przekroczeniu czasu (time exceeded) od routerów pośredniczych.\n",
    "\n",
    "3. **TTL (Time to Live)**: Każdy pakiet IP ma ustawioną wartość TTL, która jest dekrementowana przez każdy router na ścieżce. Gdy wartość TTL osiągnie zero, router odrzuca pakiet i wysyła komunikat ICMP \"time exceeded\" z powrotem do nadawcy. `traceroute` wykorzystuje ten mechanizm, stopniowo zwiększając wartość TTL, aby odkryć kolejne routery na ścieżce.\n",
    "\n",
    "**Opcje polecenia** `traceroute`\n",
    "\n",
    "1. **-n**: Wyłącza próbę rozwiązania nazw hostów, wyświetlając tylko adresy IP, co przyspiesza działanie polecenia.\n",
    "\n",
    "2. **-m <max_ttl>**: Ustawia maksymalną wartość TTL pakietów, co pozwala ograniczyć liczbę przeskoków (hops) do zadanego limitu.\n",
    "\n",
    "3. **-q <nqueries>**: Określa liczbę zapytań wysyłanych na każdy przeskok. Domyślnie jest to 3 zapytania na hop.\n",
    "\n",
    "4. **-f <first_ttl>**: Ustawia początkową wartość TTL, co jest przydatne, jeśli chcemy pominąć pewne początkowe routery.\n",
    "\n",
    "5. **-I**: Używa pakietów ICMP zamiast domyślnych pakietów UDP.\n",
    "\n",
    "6. **-T**: Używa pakietów TCP SYN zamiast UDP, co może być przydatne do śledzenia tras w sieciach, które blokują ICMP lub UDP.\n",
    "\n",
    "7. **-p <port>**: Określa port docelowy dla pakietów UDP lub TCP.\n",
    "\n",
    "**Dodatkowe informacje o** `traceroute`\n",
    "\n",
    "- **Zabezpieczenia sieciowe**: Niektóre routery lub firewalle mogą blokować pakietów ICMP lub UDP używanych przez `traceroute`, co może skutkować brakiem odpowiedzi lub \"*\".\n",
    "\n",
    "- **Różnice w implementacji**: Istnieją różne wersje `traceroute`, w tym `tracepath`, które mogą być dostępne w różnych dystrybucjach Linuxa i mogą oferować różne opcje.\n",
    "\n",
    "- **Zastosowanie**: `traceroute` jest używane do diagnozowania problemów z siecią, takich jak opóźnienia, pętle routingu czy punkty awarii.\n",
    "\n",
    "- **Interpretacja wyników**: Każdy wiersz w wyniku `traceroute` reprezentuje jeden router na ścieżce. Czas pokazany w wynikach to czas podróży pakietu tam i z powrotem (RTT - Round Trip Time) do danego routera."
   ]
  },
  {
   "cell_type": "markdown",
   "id": "b09868f9",
   "metadata": {},
   "source": [
    "**Zadanie 5.** Podaj komendę linuksową, dzięki której można ręcznie wysłać zapytanie ARP na zadany IP."
   ]
  },
  {
   "cell_type": "markdown",
   "id": "03016ed3",
   "metadata": {},
   "source": [
    "Aby ręcznie wysłać zapytanie ARP (Address Resolution Protocol) na zadany adres IP w systemie Linux, można użyć komendy `arping`. Oto przykładowa komenda, którą studenci powinni podać:\n",
    "\n",
    "```bash\n",
    "arping -I interface_ip ip_address\n",
    "```\n",
    "\n",
    "Gdzie `interface_ip` to nazwa interfejsu sieciowego, przez który ma zostać wysłane zapytanie ARP, a `ip_address` to adres IP, dla którego chcemy uzyskać adres MAC.\n",
    "\n",
    "Przykład użycia:\n",
    "\n",
    "```bash\n",
    "arping -I eth0 192.168.1.1\n",
    "```\n",
    "\n",
    "Różne aspekty działania komendy `arping`:\n",
    "\n",
    "1. **Wybór interfejsu**: Opcja `-I` pozwala na określenie interfejsu sieciowego, przez który ma zostać wysłane zapytanie. Jest to ważne w systemach z wieloma interfejsami sieciowymi.\n",
    "\n",
    "2. **Ograniczenie liczby zapytań**: Można ograniczyć liczbę wysyłanych zapytań za pomocą opcji `-c`. Na przykład, `arping -c 4 -I eth0 192.168.1.1` wyśle tylko 4 zapytania ARP.\n",
    "\n",
    "3. **Określenie czasu oczekiwania**: Opcja `-w` pozwala na określenie czasu oczekiwania na odpowiedź w sekundach. Jeśli w tym czasie nie otrzymamy odpowiedzi, `arping` zakończy działanie.\n",
    "\n",
    "4. **Broadcast**: Domyślnie `arping` wysyła zapytania ARP do konkretnego adresu IP. Można jednak użyć opcji `-B` do wysłania zapytania broadcastowego (niżej wyjaśnimy czym jest broadcast), które zostanie wysłane do wszystkich urządzeń w sieci lokalnej.\n",
    "\n",
    "5. **Unicast**: Zamiast broadcastu, można wysłać zapytanie ARP jako unicast do konkretnego adresu MAC za pomocą opcji `-U`.\n",
    "\n",
    "6. **Wyświetlanie wyników**: Po wysłaniu zapytania ARP, `arping` wyświetli odpowiedzi od urządzeń, które odbiorą zapytanie i odpowiedzą na nie. W odpowiedziach tych zawarte będą adresy MAC odpowiadających urządzeń.\n",
    "\n",
    "7. **Diagnostyka**: `arping` może być używany do diagnostyki sieci, na przykład do sprawdzenia, czy adres IP jest już używany w sieci (wykrywanie konfliktów IP) lub czy urządzenie z danym adresem IP jest osiągalne w sieci lokalnej.\n",
    "\n",
    "8. **Bezpieczeństwo**: Należy pamiętać, że nadmierne używanie `arping` lub jego użycie w nieautoryzowany sposób może być uznane za atak sieciowy i może zakłócić normalne działanie sieci.\n",
    "\n",
    "9. **Wymagania**: Aby użyć `arping`, użytkownik musi mieć odpowiednie uprawnienia (zazwyczaj uprawnienia roota) w systemie Linux."
   ]
  },
  {
   "cell_type": "markdown",
   "id": "eb95e365",
   "metadata": {},
   "source": [
    "**Zadanie 6.** Host A chce przesłać 10 pakietów z danymi do hosta B przy użyciu protokołu TCP. Ile łącznie pakietów zostanie wysłanych z hosta A do B, a ile z B do A?"
   ]
  },
  {
   "cell_type": "markdown",
   "id": "5d0b6b59",
   "metadata": {},
   "source": [
    "**Założenie wstępne**\n",
    "\n",
    "Odpowiedź na to pytanie zależy od kilku czynników, w tym od tego, czy połączenie TCP jest już ustanowione, czy też jest to nowe połączenie. **Zakładając, że jest to nowe połączenie TCP**, proces komunikacji będzie wyglądał następująco (patrz wykład):\n",
    "\n",
    "1. Host A inicjuje połączenie z hostem B, wysyłając pakiet SYN (synchronizacja).\n",
    "2. Host B odpowiada pakietem SYN-ACK (synchronizacja i potwierdzenie).\n",
    "3. Host A wysyła pakiet ACK (potwierdzenie), kończąc proces nawiązywania połączenia (tzw. trzyetapowe uzgadnianie połączenia, ang. three-way handshake).\n",
    "\n",
    "Po ustanowieniu połączenia, host A może przesłać 10 pakietów z danymi do hosta B. Każdy z tych pakietów będzie wymagał potwierdzenia od hosta B, więc:\n",
    "\n",
    "4. Host A wysyła 10 pakietów z danymi.\n",
    "5. Host B wysyła 10 pakietów ACK, po jednym dla każdego pakietu z danymi.\n",
    "\n",
    "Jeśli połączenie zostanie zamknięte po przesłaniu danych, to dodatkowo:\n",
    "\n",
    "6. Host A wysyła pakiet FIN (zakończenie) do hosta B, aby zainicjować zamknięcie połączenia.\n",
    "7. Host B odpowiada pakietem FIN-ACK.\n",
    "8. Host A wysyła pakiet ACK, kończąc proces zamykania połączenia.\n",
    "\n",
    "Podsumowując, jeśli jest to nowe połączenie i zostanie ono zamknięte po przesłaniu danych, to łącznie z hosta A do B zostanie wysłanych:\n",
    "\n",
    "- 1 pakiet SYN\n",
    "- 1 pakiet ACK (kończący trzyetapowe uzgadnianie połączenia)\n",
    "- 10 pakietów z danymi\n",
    "- 1 pakiet FIN\n",
    "\n",
    "Razem: 13 pakietów\n",
    "\n",
    "Z hosta B do A zostanie wysłanych:\n",
    "\n",
    "- 1 pakiet SYN-ACK\n",
    "- 10 pakietów ACK (potwierdzających odbiór danych)\n",
    "- 1 pakiet FIN-ACK\n",
    "- 1 pakiet ACK (kończący proces zamykania połączenia)\n",
    "\n",
    "Razem: 13 pakietów"
   ]
  },
  {
   "cell_type": "markdown",
   "id": "79ec7d0d",
   "metadata": {},
   "source": [
    "**Zadanie 7.** 3.\tPodaj numeryczną postać masek:\n",
    "1.\t/14\n",
    "2.\t/20\n",
    "3.\t/12.\n"
   ]
  },
  {
   "cell_type": "markdown",
   "id": "c9bb51d5",
   "metadata": {},
   "source": [
    "**Informacje ogólne.**\n",
    "\n",
    "**Maska podsieci** to sposób na podział adresu IP na dwie części: identyfikator sieci i identyfikator hosta. Pozwala to na organizację sieci IP w mniejsze podsieci, co ułatwia zarządzanie ruchem sieciowym, zwiększa bezpieczeństwo i pomaga w optymalizacji wykorzystania dostępnych adresów IP. Maska podsieci składa się z ciągu bitów ustawionych na 1, które określają część adresu IP należącą do sieci, a następnie ciągu bitów ustawionych na 0, które określają część adresu IP należącą do hosta. Aby używać maski podsieci, należy zastosować operację logiczną AND pomiędzy adresem IP a maską podsieci, co pozwala na wyodrębnienie adresu sieci.\n",
    "\n",
    "Numeryczne postacie masek podsieci dla podanych notacji **CIDR (Classless Inter-Domain Routing)** są następujące:\n",
    "   \n",
    " 1. /14 - Maska podsieci dla notacji /14 ma 14 bitów ustawionych na 1, a pozostałe bity na 0. W postaci dziesiętnej będzie to: 255.252.0.0, co odpowiada masce o wartościach binarnych: 11111111.11111100.00000000.00000000.\n",
    "   \n",
    " 2. /20 - Maska podsieci dla notacji /20 ma 20 bitów ustawionych na 1, a pozostałe bity na 0. W postaci dziesiętnej będzie to: 255.255.240.0, co odpowiada masce o wartościach binarnych: 11111111.11111111.11110000.00000000.\n",
    "   \n",
    " 3. /12 - Maska podsieci dla notacji /12 ma 12 bitów ustawionych na 1, a pozostałe bity na 0. W postaci dziesiętnej będzie to: 255.240.0.0, co odpowiada masce o wartościach binarnych: 11111111.11110000.00000000.00000000."
   ]
  },
  {
   "cell_type": "markdown",
   "id": "2614e5e2",
   "metadata": {},
   "source": [
    "**Zadanie 8.**\tIle jest możliwych hostów w podsieci z maską:\n",
    "1.\t255.255.255.0\n",
    "2.\t255.255.224.0\n",
    "3.\t248.0.0.0\n",
    "4.\t255.255.255.252."
   ]
  },
  {
   "cell_type": "markdown",
   "id": "793e1afb",
   "metadata": {},
   "source": [
    "Aby odpowiedzieć na pytanie o liczbę możliwych hostów w danej podsieci, możemy skorzystać z ogólnego wzoru:\n",
    "\n",
    "Liczba możliwych hostów \n",
    "\n",
    "$$\n",
    "N=2^{32 - n} - 2,\n",
    "$$\n",
    "\n",
    "gdzie $n$ to liczba bitów ustawionych na 1 w masce podsieci w notacji **CIDR (Classless Inter-Domain Routing)**. Odejmujemy 2, ponieważ jeden adres jest zarezerwowany dla **adresu sieci**, a drugi dla adresu **broadcast**.\n",
    "\n",
    "- Adres sieci (pierwszy adres w podsieci) - jest to adres, w którym wszystkie bity hosta są ustawione na 0. Służy do identyfikacji samej sieci i nie może być przypisany do żadnego urządzenia.\n",
    "- Adres broadcast (ostatni adres w podsieci) - jest to adres, w którym wszystkie bity hosta są ustawione na 1. Służy do wysyłania komunikatów do wszystkich urządzeń w danej sieci i również nie może być przypisany do żadnego urządzenia.\n",
    "\n",
    "1. Dla maski 255.255.255.0:\n",
    "Maska ta odpowiada notacji CIDR /24, co oznacza, że 24 bity są ustawione na 1.\n",
    "Liczba możliwych hostów $= 2^{32 - 24} - 2 = 2^8 - 2 = 256 - 2 = 254$.\n",
    "\n",
    "2. Dla maski 255.255.224.0:\n",
    "Maska ta odpowiada notacji CIDR /19, co oznacza, że 19 bitów jest ustawione na 1.\n",
    "Liczba możliwych hostów $= 2^{32 - 19} - 2 = 2^{13} - 2 = 8192 - 2 = 8190$.\n",
    "\n",
    "3. Dla maski 248.0.0.0:\n",
    "Maska ta odpowiada notacji CIDR /5, co oznacza, że 5 bitów jest ustawione na 1. \n",
    "Liczba możliwych hostów $= 2^{32 - 5} - 2 = 2^{27} - 2 = 134217728 - 2 = 134217726$.\n",
    "\n",
    "4. Dla maski 255.255.255.252:\n",
    "Maska ta odpowiada notacji CIDR /30, co oznacza, że 30 bitów jest ustawione na 1. \n",
    "Liczba możliwych hostów $= 2^{32 - 30} - 2 = 2^2 - 2 = 4 - 2 = 2$."
   ]
  },
  {
   "cell_type": "markdown",
   "id": "50911767",
   "metadata": {},
   "source": [
    "**Zadanie 9.** Sprawdź adresy IP 10 wybranych przez Ciebie serwisów internetowych przy użyciu polecenia `ping` oraz `nslookup`. Która metoda jest szybsza i dlaczego?"
   ]
  },
  {
   "cell_type": "markdown",
   "id": "c8ae8dc9",
   "metadata": {},
   "source": [
    "1. **Użycie polecenia `ping`**:\n",
    "   - Wybierz 10 serwisów internetowych, które chcesz sprawdzić. Przykładowe serwisy to `google.com`, `facebook.com`, `amazon.com`, itd.\n",
    "   - Dla każdego serwisu wpisz polecenie `ping -c 4 nazwa_serwisu`, gdzie `nazwa_serwisu` to adres strony, którą chcesz sprawdzić, a `-c 4` oznacza, że chcesz wysłać 4 pakiety. Na przykład:\n",
    "     ```\n",
    "     ping -c 4 google.com\n",
    "     ```\n",
    "   - Zanotuj wyświetlone adresy IP oraz czas odpowiedzi.\n",
    "\n",
    "2. **Użycie polecenia `nslookup`**:\n",
    "   - W terminalu wpisz polecenie `nslookup nazwa_serwisu` dla tych samych serwisów, które sprawdzałeś przy użyciu `ping`. Na przykład:\n",
    "     ```\n",
    "     nslookup google.com\n",
    "     ```\n",
    "   - Zanotuj wyświetlone adresy IP.\n",
    "\n",
    "**Analiza wyników**:\n",
    "- **Czas odpowiedzi**: polecenie `ping` wyświetla czas, który jest potrzebny pakietom, aby dotrzeć do serwera i wrócić. `nslookup` nie dostarcza informacji o czasie odpowiedzi, ponieważ jego głównym zadaniem jest zwrócenie informacji o DNS, a nie testowanie łączności.\n",
    "- **Szybkość metody**: `nslookup` zazwyczaj będzie szybsze w samym zwracaniu adresu IP, ponieważ nie czeka na odpowiedź od serwera docelowego, tylko odpytuje serwer DNS. `ping` natomiast wysyła kilka pakietów i czeka na odpowiedź, co zajmuje więcej czasu.\n",
    "- **Cel metody**: `ping` jest używany do sprawdzania łączności z serwerem i jakości połączenia (np. utrata pakietów, czas odpowiedzi), podczas gdy `nslookup` służy do zapytania serwerów DNS o rekordy dotyczące określonej domeny.\n",
    "\n",
    "**Wnioski, których mogą się spodziewać studenci**:\n",
    "- `nslookup` jest szybszy w zwracaniu adresu IP, ponieważ nie testuje łączności, tylko odpytuje serwer DNS.\n",
    "- `ping` dostarcza więcej informacji o stanie połączenia, takich jak czas odpowiedzi i ewentualna utrata pakietów.\n",
    "- Adresy IP zwrócone przez obie metody powinny być takie same, chyba że serwis ma wiele adresów IP i różne serwery DNS mogą zwracać różne wyniki."
   ]
  },
  {
   "cell_type": "markdown",
   "id": "7aafc313",
   "metadata": {},
   "source": [
    "## Zadania domowe\n",
    "\n",
    "**Zadanie 1.** (1 pkt.) Wykonaj zadania 1 i 2 z ćwiczeń na innym komputerze, niż podczas zajęć. \n",
    "\n",
    "**Zadanie 2.** (0.5 pkt.) Znajdź adresy IP serwerów google.com, amu.edu.pl, wmi.amu.edu.pl. \n",
    "\n",
    "**Zadanie 3.** (0.5 pkt.) Prześledź swoją drogę routingu do serwera www.nyu.edu. Zidentyfikuj jak najwięcej serwerów pośredniczących. \n",
    "\n",
    "**Zadanie 4.** (1 pkt) \tHost A został podłączony do sieci lokalnej. Zamierza skorzystać z konfiguracji DHCP, następnie przy pomocy ARP poznać adres sprzętowy hosta 192.168.0.5 i przesłać mu 12 pakietów danych. Ile łącznie pakietów wyśle i odbierze host A? \n",
    "\n",
    "\n",
    "**Zadanie 5.** (0.5 pkt.)\tPodaj numeryczną postać masek:\n",
    "1.\t/15\n",
    "2.\t/22\n",
    "3.\t/9\n",
    "\n",
    "**Zadanie 6.** (0.5 pkt.)\tIle jest możliwych hostów w podsieci z maską:\n",
    "1.\t255.248.0.0\n",
    "2.\t255.255.252.0\n",
    "3.\t255.255.255.254."
   ]
  },
  {
   "cell_type": "code",
   "execution_count": null,
   "id": "08afe6bc",
   "metadata": {},
   "outputs": [],
   "source": []
  }
 ],
 "metadata": {
  "kernelspec": {
   "display_name": "Python 3 (ipykernel)",
   "language": "python",
   "name": "python3"
  },
  "language_info": {
   "codemirror_mode": {
    "name": "ipython",
    "version": 3
   },
   "file_extension": ".py",
   "mimetype": "text/x-python",
   "name": "python",
   "nbconvert_exporter": "python",
   "pygments_lexer": "ipython3",
   "version": "3.9.7"
  }
 },
 "nbformat": 4,
 "nbformat_minor": 5
}
