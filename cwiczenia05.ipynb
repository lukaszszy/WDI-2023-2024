﻿{
 "cells": [
  {
   "cell_type": "markdown",
   "id": "fb32abf9",
   "metadata": {},
   "source": [
    "# Ćwiczenia 5 - JSON i inne formaty plików\n",
    "\n",
    "Innym, bardzo popularnym formatem obok XML jest format **JSON (JavaScript Object Notation)**. JSON jest lekkim formatem tekstowym, bazującym na podzbiorze języka JavaScript. Bardzo podobną strukturą danych w Pythonie jest poznany przez nas słownik. \n",
    "\n",
    "Format JSON jest bardzo użyteczny. Powodem tego jest po pierwsze jego prostota (parowanie klucz-wartość ułatwia zapisanie jak i odczytanie informacji) i lekkość (poza istotnymi informacjami występują tylko przecinki, cudzysłowy, dwukropki i nawiasy klamrowe). Format ten jest często używany do transferu danych w sieci. \n",
    "\n",
    "Jak widzimy format JSON to nic innego jak zbiór zagnieżdżonych słowników i list."
   ]
  },
  {
   "attachments": {
    "image-2.png": {
     "image/png": "[encoded data removed]"
    }
   },
   "cell_type": "markdown",
   "id": "7bb431f2",
   "metadata": {},
   "source": [
    "![image-2.png](attachment:image-2.png)"
   ]
  },
  {
   "cell_type": "markdown",
   "id": "edc249db",
   "metadata": {},
   "source": [
    "Używając <a href=\"https://jsonformatter.org/\">walidatora</a> można sprawdzić, czy plik JSON jest poprawnie zapisany. W Pythonie dane przechowywane w słownikach możemy przekazać do pliku *json* za pomocą biblioteki *json*. Dane przekazujemy za pomocą funkcji *dump*, która przyjmuje jako parametry słownik oraz zmienną plikową."
   ]
  },
  {
   "cell_type": "code",
   "execution_count": 5,
   "id": "bf7fbb40",
   "metadata": {},
   "outputs": [],
   "source": [
    "import json\n",
    "\n",
    "data = {\n",
    "    'user_1': {\n",
    "        'user_name': 'Marcelek_1999',\n",
    "        'password': 'haselko',\n",
    "        'number_of_posts': 10\n",
    "        },\n",
    "    'user_2': {\n",
    "        'user_name': 'Nikoś_2006',\n",
    "        'password': 'qwertyuio',\n",
    "        'number_of_posts': 18        \n",
    "        \n",
    "    }\n",
    "}\n",
    "\n",
    "\n",
    "\n",
    "with open(file='forum.json', mode='w') as file:\n",
    "    json.dump(data, file)"
   ]
  },
  {
   "cell_type": "markdown",
   "id": "2fe98573",
   "metadata": {},
   "source": [
    "Spróbujmy teraz otworzyć zapisany plik:"
   ]
  },
  {
   "cell_type": "code",
   "execution_count": 6,
   "id": "07ad07ae",
   "metadata": {},
   "outputs": [
    {
     "name": "stdout",
     "output_type": "stream",
     "text": [
      "{'user_1': {'user_name': 'Marcelek_1999', 'password': 'haselko', 'number_of_posts': 10}, 'user_2': {'user_name': 'Nikoś_2006', 'password': 'qwertyuio', 'number_of_posts': 18}}\n"
     ]
    }
   ],
   "source": [
    "with open(file='forum.json', mode='r') as file:\n",
    "    forum = json.load(file)\n",
    "    \n",
    "print(forum)"
   ]
  },
  {
   "cell_type": "markdown",
   "id": "717040a0",
   "metadata": {},
   "source": [
    "Widzimy, że dane do pliku są przechowywane prawidłowo. Spróbujmy zatem wykonać proste ćwiczenie, aby zobaczyć funkcjonalność tego formatu."
   ]
  },
  {
   "cell_type": "markdown",
   "id": "e3feba62",
   "metadata": {},
   "source": [
    "**Zadanie 1.** Utworzyć narzędzia umożliwiające wykonanie prostego programu, do przechowywania i modyfikacji danych (wraz z przykładowymi początkowymi danymi) w prostym dzienniku elektronicznym. Wykorzystać format JSON. "
   ]
  },
  {
   "cell_type": "code",
   "execution_count": 62,
   "id": "9a8e335f",
   "metadata": {},
   "outputs": [
    {
     "name": "stdout",
     "output_type": "stream",
     "text": [
      "{'Rzeczkowski Michał': {'matematyka': [], 'j. polski': [], 'j. angielski': [], 'historia': [], 'geografia': [], 'w-f': []}, 'Kowalski Jan': {'matematyka': [], 'j. polski': [], 'j. angielski': [], 'historia': [], 'geografia': [], 'w-f': []}, 'Zieliński Mateusz': {'matematyka': [], 'j. polski': [], 'j. angielski': [], 'historia': [], 'geografia': [], 'w-f': []}, 'Wiśniewski Tomasz': {'matematyka': [], 'j. polski': [], 'j. angielski': [], 'historia': [], 'geografia': [], 'w-f': []}, 'Andrzej Kura': {'matematyka': [], 'j. polski': [], 'j. angielski': [], 'historia': [], 'geografia': [], 'w-f': []}, 'Ronald Fus': {'matematyka': [], 'j. polski': [], 'j. angielski': [], 'historia': [], 'geografia': [], 'w-f': []}}\n"
     ]
    }
   ],
   "source": [
    "import json\n",
    "import random\n",
    "\n",
    "random.seed(44)\n",
    "\n",
    "students_name = ['Rzeczkowski Michał',\n",
    "                 'Kowalski Jan',\n",
    "                 'Zieliński Mateusz',\n",
    "                 'Wiśniewski Tomasz',\n",
    "                 'Andrzej Kura',\n",
    "                 'Ronald Fus']\n",
    "\n",
    "classes = ['matematyka', 'j. polski', 'j. angielski', 'historia', 'geografia', 'w-f']\n",
    "\n",
    "\n",
    "\n",
    "\n",
    "# Tworzymy dziennik klasowy w której każdy uczeń jest kluczem słownika,\n",
    "# którego wartościami jest następujący słownik - przedmiot (klucz), wartość - lista ocen\n",
    "# Następnie należy uzupełnić słownik w ten sposób , aby z każdego przdmiotu uczeń miał  od 1 do 4 losowych ocen tworzących listę.\n",
    "# Każdemu uczniowi dodać nowy klucz - średnia ze wszystkich średnich z przedmiotów przybliżonych do wartości całkowitych.\n",
    "# przy czym ocena z pojedynczego przedmiotu\n",
    "# Utworzyć nowy słownik uczeń-średnia.\n",
    "\n",
    "\n",
    "students = dict()\n",
    "\n",
    "\n",
    "for name in students_name:\n",
    "    students[name] = {cl : [] for cl in classes}\n",
    "    \n",
    "print(students)  # pojawi się pusty dziennik"
   ]
  },
  {
   "cell_type": "markdown",
   "id": "2674b528",
   "metadata": {},
   "source": [
    "Wypełnijmy dziennik ocenami."
   ]
  },
  {
   "cell_type": "code",
   "execution_count": 63,
   "id": "6e6bb4dd",
   "metadata": {},
   "outputs": [
    {
     "name": "stdout",
     "output_type": "stream",
     "text": [
      "{'Rzeczkowski Michał': {'matematyka': [5, 5, 6, 1], 'j. polski': [4, 2], 'j. angielski': [1, 2, 1], 'historia': [1], 'geografia': [5, 6], 'w-f': [6, 6, 4]}, 'Kowalski Jan': {'matematyka': [6, 6, 3, 3], 'j. polski': [3], 'j. angielski': [5, 2, 1], 'historia': [5], 'geografia': [3], 'w-f': [1, 6, 3]}, 'Zieliński Mateusz': {'matematyka': [3], 'j. polski': [1, 4, 4, 2], 'j. angielski': [2, 3], 'historia': [1, 1], 'geografia': [6, 1, 6, 6], 'w-f': [3, 4, 6]}, 'Wiśniewski Tomasz': {'matematyka': [5, 5, 2, 2], 'j. polski': [4, 6, 6, 3], 'j. angielski': [3], 'historia': [1, 2], 'geografia': [5], 'w-f': [3, 5, 2]}, 'Andrzej Kura': {'matematyka': [1, 3, 3, 1], 'j. polski': [5, 6], 'j. angielski': [4], 'historia': [6], 'geografia': [1, 2, 2, 6], 'w-f': [5]}, 'Ronald Fus': {'matematyka': [6, 1, 3], 'j. polski': [1], 'j. angielski': [3, 2, 6, 5], 'historia': [1, 3], 'geografia': [3, 1, 5, 5], 'w-f': [5, 4, 1]}}\n"
     ]
    }
   ],
   "source": [
    "for name in students.keys():\n",
    "    for cl in students[name].keys():\n",
    "        numb_grades = random.randint(1,4)  #wstawiamy od 1 do 4 ocen z danego przedmiotu (wybieramy liczbę ocen)\n",
    "        for _ in range(numb_grades):\n",
    "            students[name][cl].append(random.randint(1,6)) # wstawiamy (losujemy) oceny z konkretnego przedmiotu\n",
    "print(students)"
   ]
  },
  {
   "cell_type": "markdown",
   "id": "858b614d",
   "metadata": {},
   "source": [
    "Spróbujmy policzyć średnią ocen dla każdego ucznia (średnia ze średnich)."
   ]
  },
  {
   "cell_type": "code",
   "execution_count": 64,
   "id": "aae3f01b",
   "metadata": {},
   "outputs": [],
   "source": [
    "#tworzymy nową funkcjonalność - średnia globalna\n",
    "\n",
    "for name in students.keys():\n",
    "    s = 0\n",
    "    for cl in students[name].keys():\n",
    "        s += round(sum(students[name][cl]) / len(students[name][cl]))\n",
    "    s = s / len(students[name])\n",
    "    students[name]['średnia'] = round(s,2)\n",
    "    \n",
    "\n",
    "\n",
    "means = {name : students[name]['średnia'] for name in students.keys()}"
   ]
  },
  {
   "cell_type": "code",
   "execution_count": 65,
   "id": "63a52a1d",
   "metadata": {},
   "outputs": [
    {
     "name": "stdout",
     "output_type": "stream",
     "text": [
      "{'Rzeczkowski Michał': {'matematyka': [5, 5, 6, 1], 'j. polski': [4, 2], 'j. angielski': [1, 2, 1], 'historia': [1], 'geografia': [5, 6], 'w-f': [6, 6, 4], 'średnia': 3.33}, 'Kowalski Jan': {'matematyka': [6, 6, 3, 3], 'j. polski': [3], 'j. angielski': [5, 2, 1], 'historia': [5], 'geografia': [3], 'w-f': [1, 6, 3], 'średnia': 3.5}, 'Zieliński Mateusz': {'matematyka': [3], 'j. polski': [1, 4, 4, 2], 'j. angielski': [2, 3], 'historia': [1, 1], 'geografia': [6, 1, 6, 6], 'w-f': [3, 4, 6], 'średnia': 3.0}, 'Wiśniewski Tomasz': {'matematyka': [5, 5, 2, 2], 'j. polski': [4, 6, 6, 3], 'j. angielski': [3], 'historia': [1, 2], 'geografia': [5], 'w-f': [3, 5, 2], 'średnia': 3.67}, 'Andrzej Kura': {'matematyka': [1, 3, 3, 1], 'j. polski': [5, 6], 'j. angielski': [4], 'historia': [6], 'geografia': [1, 2, 2, 6], 'w-f': [5], 'średnia': 4.33}, 'Ronald Fus': {'matematyka': [6, 1, 3], 'j. polski': [1], 'j. angielski': [3, 2, 6, 5], 'historia': [1, 3], 'geografia': [3, 1, 5, 5], 'w-f': [5, 4, 1], 'średnia': 2.83}}\n",
      "=============================================================================================================================\n",
      "=============================================================================================================================\n",
      "Same średnie:\n",
      "{'Rzeczkowski Michał': 3.33, 'Kowalski Jan': 3.5, 'Zieliński Mateusz': 3.0, 'Wiśniewski Tomasz': 3.67, 'Andrzej Kura': 4.33, 'Ronald Fus': 2.83}\n"
     ]
    }
   ],
   "source": [
    "print(students)\n",
    "\n",
    "\n",
    "print('='*125)\n",
    "print('='*125)\n",
    "print('Same średnie:')\n",
    "\n",
    "print(means)"
   ]
  },
  {
   "cell_type": "markdown",
   "id": "8cacc33f",
   "metadata": {},
   "source": [
    "Załadujmy dane do nowej zmiennej, aby widzieć, że dane pozostają niezmienione po załadowaniu pliku (format JSON \"współpracuje z typem słownikowym\")."
   ]
  },
  {
   "cell_type": "code",
   "execution_count": 66,
   "id": "4215cdcb",
   "metadata": {},
   "outputs": [
    {
     "name": "stdout",
     "output_type": "stream",
     "text": [
      "{'Rzeczkowski Michał': {'matematyka': [5, 5, 6, 1], 'j. polski': [4, 2], 'j. angielski': [1, 2, 1], 'historia': [1], 'geografia': [5, 6], 'w-f': [6, 6, 4], 'średnia': 3.33}, 'Kowalski Jan': {'matematyka': [6, 6, 3, 3], 'j. polski': [3], 'j. angielski': [5, 2, 1], 'historia': [5], 'geografia': [3], 'w-f': [1, 6, 3], 'średnia': 3.5}, 'Zieliński Mateusz': {'matematyka': [3], 'j. polski': [1, 4, 4, 2], 'j. angielski': [2, 3], 'historia': [1, 1], 'geografia': [6, 1, 6, 6], 'w-f': [3, 4, 6], 'średnia': 3.0}, 'Wiśniewski Tomasz': {'matematyka': [5, 5, 2, 2], 'j. polski': [4, 6, 6, 3], 'j. angielski': [3], 'historia': [1, 2], 'geografia': [5], 'w-f': [3, 5, 2], 'średnia': 3.67}, 'Andrzej Kura': {'matematyka': [1, 3, 3, 1], 'j. polski': [5, 6], 'j. angielski': [4], 'historia': [6], 'geografia': [1, 2, 2, 6], 'w-f': [5], 'średnia': 4.33}, 'Ronald Fus': {'matematyka': [6, 1, 3], 'j. polski': [1], 'j. angielski': [3, 2, 6, 5], 'historia': [1, 3], 'geografia': [3, 1, 5, 5], 'w-f': [5, 4, 1], 'średnia': 2.83}}\n"
     ]
    }
   ],
   "source": [
    "with open(file='dziennik.json', mode='w') as file:\n",
    "    json.dump(students, file)\n",
    "\n",
    "\n",
    "with open(file='dziennik.json', mode='r') as file:\n",
    "    students1 = json.load(file)\n",
    "\n",
    "print(students1)"
   ]
  },
  {
   "cell_type": "markdown",
   "id": "799a8bc3",
   "metadata": {},
   "source": [
    "Spróbujmy teraz napisać prostą funkcję, która dodaje ocenę do dziennika zapisując w pliku."
   ]
  },
  {
   "cell_type": "code",
   "execution_count": 67,
   "id": "7d4e55f3",
   "metadata": {},
   "outputs": [],
   "source": [
    "file_path = 'dziennik.json'\n",
    "\n",
    "def insert_grade(student, cl, n, file_path='dziennik.json'):\n",
    "    with open(file=file_path, mode='r') as file:\n",
    "        grade_book = json.load(file)\n",
    "    grade_book[student][cl].append(n)\n",
    "    with open(file=file_path, mode='w') as file:\n",
    "        json.dump(grade_book, file)    "
   ]
  },
  {
   "cell_type": "code",
   "execution_count": 68,
   "id": "3af674d0",
   "metadata": {},
   "outputs": [
    {
     "data": {
      "text/plain": [
       "{'Rzeczkowski Michał': {'matematyka': [5, 5, 6, 1],\n",
       "  'j. polski': [4, 2],\n",
       "  'j. angielski': [1, 2, 1],\n",
       "  'historia': [1],\n",
       "  'geografia': [5, 6],\n",
       "  'w-f': [6, 6, 4],\n",
       "  'średnia': 3.33},\n",
       " 'Kowalski Jan': {'matematyka': [6, 6, 3, 3],\n",
       "  'j. polski': [3],\n",
       "  'j. angielski': [5, 2, 1],\n",
       "  'historia': [5],\n",
       "  'geografia': [3],\n",
       "  'w-f': [1, 6, 3],\n",
       "  'średnia': 3.5},\n",
       " 'Zieliński Mateusz': {'matematyka': [3],\n",
       "  'j. polski': [1, 4, 4, 2],\n",
       "  'j. angielski': [2, 3],\n",
       "  'historia': [1, 1],\n",
       "  'geografia': [6, 1, 6, 6],\n",
       "  'w-f': [3, 4, 6],\n",
       "  'średnia': 3.0},\n",
       " 'Wiśniewski Tomasz': {'matematyka': [5, 5, 2, 2],\n",
       "  'j. polski': [4, 6, 6, 3],\n",
       "  'j. angielski': [3],\n",
       "  'historia': [1, 2],\n",
       "  'geografia': [5],\n",
       "  'w-f': [3, 5, 2],\n",
       "  'średnia': 3.67},\n",
       " 'Andrzej Kura': {'matematyka': [1, 3, 3, 1],\n",
       "  'j. polski': [5, 6],\n",
       "  'j. angielski': [4],\n",
       "  'historia': [6],\n",
       "  'geografia': [1, 2, 2, 6],\n",
       "  'w-f': [5],\n",
       "  'średnia': 4.33},\n",
       " 'Ronald Fus': {'matematyka': [6, 1, 3],\n",
       "  'j. polski': [1],\n",
       "  'j. angielski': [3, 2, 6, 5],\n",
       "  'historia': [1, 3],\n",
       "  'geografia': [3, 1, 5, 5],\n",
       "  'w-f': [5, 4, 1],\n",
       "  'średnia': 2.83}}"
      ]
     },
     "execution_count": 68,
     "metadata": {},
     "output_type": "execute_result"
    }
   ],
   "source": [
    "students"
   ]
  },
  {
   "cell_type": "markdown",
   "id": "94e3b8dd",
   "metadata": {},
   "source": [
    "Dopiszmy ocenę:"
   ]
  },
  {
   "cell_type": "code",
   "execution_count": 69,
   "id": "cdc8d00c",
   "metadata": {},
   "outputs": [],
   "source": [
    "student = 'Rzeczkowski Michał'\n",
    "cl = 'matematyka'\n",
    "n = 9\n",
    "insert_grade(student, cl, n, file_path='dziennik.json')"
   ]
  },
  {
   "cell_type": "code",
   "execution_count": 70,
   "id": "4e487bef",
   "metadata": {},
   "outputs": [
    {
     "name": "stdout",
     "output_type": "stream",
     "text": [
      "{'Rzeczkowski Michał': {'matematyka': [5, 5, 6, 1, 9], 'j. polski': [4, 2], 'j. angielski': [1, 2, 1], 'historia': [1], 'geografia': [5, 6], 'w-f': [6, 6, 4], 'średnia': 3.33}, 'Kowalski Jan': {'matematyka': [6, 6, 3, 3], 'j. polski': [3], 'j. angielski': [5, 2, 1], 'historia': [5], 'geografia': [3], 'w-f': [1, 6, 3], 'średnia': 3.5}, 'Zieliński Mateusz': {'matematyka': [3], 'j. polski': [1, 4, 4, 2], 'j. angielski': [2, 3], 'historia': [1, 1], 'geografia': [6, 1, 6, 6], 'w-f': [3, 4, 6], 'średnia': 3.0}, 'Wiśniewski Tomasz': {'matematyka': [5, 5, 2, 2], 'j. polski': [4, 6, 6, 3], 'j. angielski': [3], 'historia': [1, 2], 'geografia': [5], 'w-f': [3, 5, 2], 'średnia': 3.67}, 'Andrzej Kura': {'matematyka': [1, 3, 3, 1], 'j. polski': [5, 6], 'j. angielski': [4], 'historia': [6], 'geografia': [1, 2, 2, 6], 'w-f': [5], 'średnia': 4.33}, 'Ronald Fus': {'matematyka': [6, 1, 3], 'j. polski': [1], 'j. angielski': [3, 2, 6, 5], 'historia': [1, 3], 'geografia': [3, 1, 5, 5], 'w-f': [5, 4, 1], 'średnia': 2.83}}\n"
     ]
    }
   ],
   "source": [
    "with open(file=file_path, mode='r') as file:\n",
    "    grade_book = json.load(file)\n",
    "print(grade_book)"
   ]
  },
  {
   "attachments": {},
   "cell_type": "markdown",
   "id": "69f0c1ae",
   "metadata": {},
   "source": [
    "## API\n",
    "\n",
    "Format JSON jest również często wykorzystywany, gdy korzystamy z **API (Application Programming Interface)**. \n",
    "\n",
    "**API** to zbiór zbiór poleceń, funkcji, protokołów i obiektów wykorzystywanych przez programistów do tworzenia programu lub interakcji z systemem zewnętrznym."
   ]
  },
  {
   "attachments": {
    "image.png": {
     "image/png": "[encoded data removed]"
    }
   },
   "cell_type": "markdown",
   "id": "76b1e1e5",
   "metadata": {},
   "source": [
    "![image.png](attachment:image.png)"
   ]
  },
  {
   "cell_type": "markdown",
   "id": "0d63c7d3",
   "metadata": {},
   "source": [
    "W wyniku \"powyższej rozmowy\" otrzymujemy najczęściej dane, które możemy wykorzystać w naszym systemie. API stanowi również rodzaj \"zapory\", która pozwala korzystać ze stworzonego systemu w kontrolowany sposób. Nasze zapytanie (tzw. *request*) musi spełniać określone reguły, jeśli tak jest, otrzymujemy odpowiedź (tzw. *response*) systemu zewnętrznego. "
   ]
  },
  {
   "cell_type": "markdown",
   "id": "5188dcf2",
   "metadata": {},
   "source": [
    "### API w Pythonie\n",
    "\n",
    "Zobaczymy teraz na kilku przykładach jak korzysta się API wybranych serwisów. Ponieważ systemy są tworzone przez różne (i różnorodne) podmioty i dostarczają przeróżnych danych więc nie ma tu jakiejś uniwersalnej metody. Przykładowo z API popularnego `ChatGPT` stworzonego przez `OpenAI`  możemy korzystać za pomocą osobnych bibliotek w różnych językach programowania. \n",
    "\n",
    "Z reguły jednak jeśli zapytania i odpowiedź serwisu nie jest bardzo złożona, odbywa się to za pośrednictwem protokołu http (więcej o tym powiemy przy okazji sieci).\n",
    "\n",
    "Skorzystajmy najpierw z bardzo prostego <a href=\"http://api.open-notify.org/iss-now.json\">API</a> <a href=\"https://pl.wikipedia.org/wiki/Mi%C4%99dzynarodowa_Stacja_Kosmiczna\">Międzynarodowej Stacji Kosmicznej</a> (<a href=\"http://open-notify.org/Open-Notify-API/ISS-Location-Now/\">ISS</a>). API zwraca położenie stacji w czasie."
   ]
  },
  {
   "cell_type": "code",
   "execution_count": 77,
   "id": "59ce0922",
   "metadata": {},
   "outputs": [],
   "source": [
    "import requests\n",
    "\n",
    "resp = requests.get('http://api.open-notify.org/iss-now.json')"
   ]
  },
  {
   "cell_type": "code",
   "execution_count": 78,
   "id": "630668d3",
   "metadata": {},
   "outputs": [
    {
     "data": {
      "text/plain": [
       "<Response [200]>"
      ]
     },
     "execution_count": 78,
     "metadata": {},
     "output_type": "execute_result"
    }
   ],
   "source": [
    "resp"
   ]
  },
  {
   "cell_type": "markdown",
   "id": "f5e27f9e",
   "metadata": {},
   "source": [
    "Kod 200 mówi, że odpowiedź zakończyła się sukcesem. Gdyby link zawierał błąd otrzymalibyśmy kod 404, co oznacza, że serwer nie został znaleziony."
   ]
  },
  {
   "cell_type": "code",
   "execution_count": 79,
   "id": "508b0be9",
   "metadata": {},
   "outputs": [
    {
     "data": {
      "text/plain": [
       "<Response [404]>"
      ]
     },
     "execution_count": 79,
     "metadata": {},
     "output_type": "execute_result"
    }
   ],
   "source": [
    "resp = requests.get('http://api.open-notify.org/is-now.json')\n",
    "resp"
   ]
  },
  {
   "cell_type": "code",
   "execution_count": 80,
   "id": "9639679d",
   "metadata": {},
   "outputs": [],
   "source": [
    "resp = requests.get('http://api.open-notify.org/iss-now.json')"
   ]
  },
  {
   "cell_type": "code",
   "execution_count": 81,
   "id": "e260f641",
   "metadata": {},
   "outputs": [
    {
     "data": {
      "text/plain": [
       "'{\"message\": \"success\", \"iss_position\": {\"longitude\": \"-48.8899\", \"latitude\": \"-41.7798\"}, \"timestamp\": 1699130817}'"
      ]
     },
     "execution_count": 81,
     "metadata": {},
     "output_type": "execute_result"
    }
   ],
   "source": [
    "resp.text"
   ]
  },
  {
   "cell_type": "code",
   "execution_count": 83,
   "id": "2e5be4f8",
   "metadata": {},
   "outputs": [
    {
     "data": {
      "text/plain": [
       "{'message': 'success',\n",
       " 'iss_position': {'longitude': '-48.8899', 'latitude': '-41.7798'},\n",
       " 'timestamp': 1699130817}"
      ]
     },
     "execution_count": 83,
     "metadata": {},
     "output_type": "execute_result"
    }
   ],
   "source": [
    "resp.json()"
   ]
  },
  {
   "cell_type": "code",
   "execution_count": 84,
   "id": "c48a0211",
   "metadata": {},
   "outputs": [
    {
     "data": {
      "text/plain": [
       "'-48.8899'"
      ]
     },
     "execution_count": 84,
     "metadata": {},
     "output_type": "execute_result"
    }
   ],
   "source": [
    "resp.json()['iss_position']['longitude']"
   ]
  },
  {
   "cell_type": "markdown",
   "id": "8e600f70",
   "metadata": {},
   "source": [
    "Zobaczmy nieco bardziej złożone API dostępnego na stronie <a href=\"https://sunrise-sunset.org/api\">Sunrise Sunset</a>.  "
   ]
  },
  {
   "cell_type": "code",
   "execution_count": 93,
   "id": "b9c23604",
   "metadata": {},
   "outputs": [
    {
     "data": {
      "text/plain": [
       "'{\"results\":{\"sunrise\":\"5:38:59 AM\",\"sunset\":\"5:48:08 PM\",\"solar_noon\":\"11:43:33 AM\",\"day_length\":\"12:09:09\",\"civil_twilight_begin\":\"5:18:40 AM\",\"civil_twilight_end\":\"6:08:27 PM\",\"nautical_twilight_begin\":\"4:53:45 AM\",\"nautical_twilight_end\":\"6:33:22 PM\",\"astronomical_twilight_begin\":\"4:28:47 AM\",\"astronomical_twilight_end\":\"6:58:20 PM\"},\"status\":\"OK\"}'"
      ]
     },
     "execution_count": 93,
     "metadata": {},
     "output_type": "execute_result"
    }
   ],
   "source": [
    "resp1 = requests.get('https://api.sunrise-sunset.org/json')\n",
    "resp1.text"
   ]
  },
  {
   "cell_type": "markdown",
   "id": "61fd288a",
   "metadata": {},
   "source": [
    "Widzimy, że tym razem należy przekazać w zapytaniu niezbędne parametry. Długość i szerokość geograficzną można pozyskać ze <a href=\"https://www.latlong.net/\">strony</a>."
   ]
  },
  {
   "cell_type": "code",
   "execution_count": 97,
   "id": "e340b64a",
   "metadata": {},
   "outputs": [
    {
     "data": {
      "text/plain": [
       "{'results': {'sunrise': '5:51:30 AM',\n",
       "  'sunset': '3:20:12 PM',\n",
       "  'solar_noon': '10:35:51 AM',\n",
       "  'day_length': '09:28:42',\n",
       "  'civil_twilight_begin': '5:17:08 AM',\n",
       "  'civil_twilight_end': '3:54:35 PM',\n",
       "  'nautical_twilight_begin': '4:36:38 AM',\n",
       "  'nautical_twilight_end': '4:35:05 PM',\n",
       "  'astronomical_twilight_begin': '3:57:03 AM',\n",
       "  'astronomical_twilight_end': '5:14:39 PM'},\n",
       " 'status': 'OK'}"
      ]
     },
     "execution_count": 97,
     "metadata": {},
     "output_type": "execute_result"
    }
   ],
   "source": [
    "parameters = {\n",
    "    'lat': 52.406376,\n",
    "    'lng': 16.925167\n",
    "    \n",
    "}\n",
    "\n",
    "resp1 = requests.get('https://api.sunrise-sunset.org/json', params=parameters)\n",
    "resp1.json()"
   ]
  },
  {
   "cell_type": "code",
   "execution_count": 99,
   "id": "ded019ef",
   "metadata": {},
   "outputs": [
    {
     "name": "stdout",
     "output_type": "stream",
     "text": [
      "5:51:30 AM\n",
      "3:20:12 PM\n",
      "10:35:51 AM\n"
     ]
    }
   ],
   "source": [
    "print(resp1.json()['results']['sunrise'])\n",
    "print(resp1.json()['results']['sunset'])\n",
    "print(resp1.json()['results']['solar_noon'])\n"
   ]
  },
  {
   "cell_type": "markdown",
   "id": "d8af4037",
   "metadata": {},
   "source": [
    "Oczywiście istnieje bardzo wiele ciekawych serwisów z różnymi danymi, z których możemy podbrać rozmaite dane za pomocą API (dane pogodowe, dane sportowe), ale również np. wysyłać SMSy i korzystać z innych ciekawych możliwości. Naszym celem było oczywiście zasygnalizowanie takich możliwości i wskazanie, że częstym formatem wykorzystywanym w tym celu jest JSON."
   ]
  },
  {
   "cell_type": "markdown",
   "id": "fcbd5d50",
   "metadata": {},
   "source": [
    "## Format CSV\n",
    "\n",
    "**CSV (comma-separated values)**, to inny bardzo ważny format, w którym przechowujemy dane. Pliki CSV przechowują dane tabelaryczne. Każdy wiersz ma taką samą długość, poszczególne jego elementy odpowiadają kolejnycm kolumnom i są rozdzielnone przecinkami (średnikiem lub tabulatorem). Pierwszy wiersz zawiera nagłówki. \n",
    "\n",
    "<a href=\"https://pl.wikipedia.org/wiki/CSV_(format_pliku)\">Szczegółowa specyfikacja formatu.</a> \n",
    "\n",
    "Dane z plików CSV obsługiwane są w arkuszach kalkulacyjnym. W Pythonie wykorzystuje się bibliotekę csv, ale chyba najpopularniejszą biblioteką do pracy z danymi tej postaci jest biblioteka `Pandas`, w której obiekt klasy `DataFrame` jest odpowiednikiem arkusza kalkulacyjnego. Każdy taki obiekt możemy eksportować do pliku csv. \n",
    "\n",
    " Stwórzmy prostą ramkę i eksportujmy ją do pliku csv."
   ]
  },
  {
   "cell_type": "code",
   "execution_count": 100,
   "id": "6325e79b",
   "metadata": {},
   "outputs": [
    {
     "data": {
      "text/html": [
       "<div>\n",
       "<style scoped>\n",
       "    .dataframe tbody tr th:only-of-type {\n",
       "        vertical-align: middle;\n",
       "    }\n",
       "\n",
       "    .dataframe tbody tr th {\n",
       "        vertical-align: top;\n",
       "    }\n",
       "\n",
       "    .dataframe thead th {\n",
       "        text-align: right;\n",
       "    }\n",
       "</style>\n",
       "<table border=\"1\" class=\"dataframe\">\n",
       "  <thead>\n",
       "    <tr style=\"text-align: right;\">\n",
       "      <th></th>\n",
       "      <th>Imię</th>\n",
       "      <th>Nazwisko</th>\n",
       "      <th>Zaległość w PLN</th>\n",
       "    </tr>\n",
       "  </thead>\n",
       "  <tbody>\n",
       "    <tr>\n",
       "      <th>0</th>\n",
       "      <td>Mariusz</td>\n",
       "      <td>Nowak</td>\n",
       "      <td>10</td>\n",
       "    </tr>\n",
       "    <tr>\n",
       "      <th>1</th>\n",
       "      <td>Dariusz</td>\n",
       "      <td>Robak</td>\n",
       "      <td>100</td>\n",
       "    </tr>\n",
       "    <tr>\n",
       "      <th>2</th>\n",
       "      <td>Klaudiusz</td>\n",
       "      <td>Bobak</td>\n",
       "      <td>1000</td>\n",
       "    </tr>\n",
       "    <tr>\n",
       "      <th>3</th>\n",
       "      <td>Bartosz</td>\n",
       "      <td>Kołpak</td>\n",
       "      <td>10000</td>\n",
       "    </tr>\n",
       "    <tr>\n",
       "      <th>4</th>\n",
       "      <td>Miłosz</td>\n",
       "      <td>Cwaniak</td>\n",
       "      <td>100000</td>\n",
       "    </tr>\n",
       "  </tbody>\n",
       "</table>\n",
       "</div>"
      ],
      "text/plain": [
       "        Imię Nazwisko  Zaległość w PLN\n",
       "0    Mariusz    Nowak               10\n",
       "1    Dariusz    Robak              100\n",
       "2  Klaudiusz    Bobak             1000\n",
       "3    Bartosz   Kołpak            10000\n",
       "4     Miłosz  Cwaniak           100000"
      ]
     },
     "execution_count": 100,
     "metadata": {},
     "output_type": "execute_result"
    }
   ],
   "source": [
    "import pandas as pd\n",
    "\n",
    "df = pd.DataFrame(data={'Imię':['Mariusz', 'Dariusz', 'Klaudiusz', 'Bartosz', 'Miłosz'],\n",
    "                        'Nazwisko': ['Nowak', 'Robak', 'Bobak', 'Kołpak', 'Cwaniak'],\n",
    "                         'Zaległość w PLN': [10, 100, 1000, 10000, 100000]})\n",
    "\n",
    "df"
   ]
  },
  {
   "cell_type": "markdown",
   "id": "cf32aced",
   "metadata": {},
   "source": [
    "Na obiektach DataFrame (tzw. ramkach) bardzo łatwo i szybko można wykonywać różne operacje."
   ]
  },
  {
   "cell_type": "code",
   "execution_count": 101,
   "id": "d247e0c7",
   "metadata": {},
   "outputs": [
    {
     "data": {
      "text/html": [
       "<div>\n",
       "<style scoped>\n",
       "    .dataframe tbody tr th:only-of-type {\n",
       "        vertical-align: middle;\n",
       "    }\n",
       "\n",
       "    .dataframe tbody tr th {\n",
       "        vertical-align: top;\n",
       "    }\n",
       "\n",
       "    .dataframe thead th {\n",
       "        text-align: right;\n",
       "    }\n",
       "</style>\n",
       "<table border=\"1\" class=\"dataframe\">\n",
       "  <thead>\n",
       "    <tr style=\"text-align: right;\">\n",
       "      <th></th>\n",
       "      <th>Imię</th>\n",
       "      <th>Nazwisko</th>\n",
       "      <th>Zaległość w PLN</th>\n",
       "    </tr>\n",
       "  </thead>\n",
       "  <tbody>\n",
       "    <tr>\n",
       "      <th>0</th>\n",
       "      <td>Mariusz</td>\n",
       "      <td>Nowak</td>\n",
       "      <td>5.0</td>\n",
       "    </tr>\n",
       "    <tr>\n",
       "      <th>1</th>\n",
       "      <td>Dariusz</td>\n",
       "      <td>Robak</td>\n",
       "      <td>50.0</td>\n",
       "    </tr>\n",
       "    <tr>\n",
       "      <th>2</th>\n",
       "      <td>Klaudiusz</td>\n",
       "      <td>Bobak</td>\n",
       "      <td>500.0</td>\n",
       "    </tr>\n",
       "    <tr>\n",
       "      <th>3</th>\n",
       "      <td>Bartosz</td>\n",
       "      <td>Kołpak</td>\n",
       "      <td>5000.0</td>\n",
       "    </tr>\n",
       "    <tr>\n",
       "      <th>4</th>\n",
       "      <td>Miłosz</td>\n",
       "      <td>Cwaniak</td>\n",
       "      <td>50000.0</td>\n",
       "    </tr>\n",
       "  </tbody>\n",
       "</table>\n",
       "</div>"
      ],
      "text/plain": [
       "        Imię Nazwisko  Zaległość w PLN\n",
       "0    Mariusz    Nowak              5.0\n",
       "1    Dariusz    Robak             50.0\n",
       "2  Klaudiusz    Bobak            500.0\n",
       "3    Bartosz   Kołpak           5000.0\n",
       "4     Miłosz  Cwaniak          50000.0"
      ]
     },
     "execution_count": 101,
     "metadata": {},
     "output_type": "execute_result"
    }
   ],
   "source": [
    "df['Zaległość w PLN'] = df['Zaległość w PLN'] * 0.5\n",
    "df"
   ]
  },
  {
   "cell_type": "code",
   "execution_count": 103,
   "id": "e00630cb",
   "metadata": {},
   "outputs": [
    {
     "data": {
      "text/html": [
       "<div>\n",
       "<style scoped>\n",
       "    .dataframe tbody tr th:only-of-type {\n",
       "        vertical-align: middle;\n",
       "    }\n",
       "\n",
       "    .dataframe tbody tr th {\n",
       "        vertical-align: top;\n",
       "    }\n",
       "\n",
       "    .dataframe thead th {\n",
       "        text-align: right;\n",
       "    }\n",
       "</style>\n",
       "<table border=\"1\" class=\"dataframe\">\n",
       "  <thead>\n",
       "    <tr style=\"text-align: right;\">\n",
       "      <th></th>\n",
       "      <th>Imię</th>\n",
       "      <th>Nazwisko</th>\n",
       "      <th>Zaległość w PLN</th>\n",
       "    </tr>\n",
       "  </thead>\n",
       "  <tbody>\n",
       "    <tr>\n",
       "      <th>2</th>\n",
       "      <td>Klaudiusz</td>\n",
       "      <td>Bobak</td>\n",
       "      <td>500.0</td>\n",
       "    </tr>\n",
       "    <tr>\n",
       "      <th>3</th>\n",
       "      <td>Bartosz</td>\n",
       "      <td>Kołpak</td>\n",
       "      <td>5000.0</td>\n",
       "    </tr>\n",
       "    <tr>\n",
       "      <th>4</th>\n",
       "      <td>Miłosz</td>\n",
       "      <td>Cwaniak</td>\n",
       "      <td>50000.0</td>\n",
       "    </tr>\n",
       "  </tbody>\n",
       "</table>\n",
       "</div>"
      ],
      "text/plain": [
       "        Imię Nazwisko  Zaległość w PLN\n",
       "2  Klaudiusz    Bobak            500.0\n",
       "3    Bartosz   Kołpak           5000.0\n",
       "4     Miłosz  Cwaniak          50000.0"
      ]
     },
     "execution_count": 103,
     "metadata": {},
     "output_type": "execute_result"
    }
   ],
   "source": [
    "df[df['Zaległość w PLN'] > 100]"
   ]
  },
  {
   "cell_type": "markdown",
   "id": "b528ed50",
   "metadata": {},
   "source": [
    "Biblioteka `Pandas` daje wiele możliwości w pracy z danymi tabelarycznymi. Przyjrzymy się im później, przy okazji pracy z arkuszami kalkulacyjnymi."
   ]
  },
  {
   "cell_type": "code",
   "execution_count": 111,
   "id": "1fd23326",
   "metadata": {},
   "outputs": [],
   "source": [
    "df.to_csv('dluznicy.csv')\n",
    "df.to_excel('dluznicy.xlsx', index=False)"
   ]
  },
  {
   "cell_type": "code",
   "execution_count": 112,
   "id": "f5c932eb",
   "metadata": {},
   "outputs": [],
   "source": [
    "df1 = pd.read_csv('dluznicy.csv')"
   ]
  },
  {
   "cell_type": "code",
   "execution_count": 113,
   "id": "4e5b4fa5",
   "metadata": {},
   "outputs": [
    {
     "data": {
      "text/html": [
       "<div>\n",
       "<style scoped>\n",
       "    .dataframe tbody tr th:only-of-type {\n",
       "        vertical-align: middle;\n",
       "    }\n",
       "\n",
       "    .dataframe tbody tr th {\n",
       "        vertical-align: top;\n",
       "    }\n",
       "\n",
       "    .dataframe thead th {\n",
       "        text-align: right;\n",
       "    }\n",
       "</style>\n",
       "<table border=\"1\" class=\"dataframe\">\n",
       "  <thead>\n",
       "    <tr style=\"text-align: right;\">\n",
       "      <th></th>\n",
       "      <th>Unnamed: 0</th>\n",
       "      <th>Imię</th>\n",
       "      <th>Nazwisko</th>\n",
       "      <th>Zaległość w PLN</th>\n",
       "    </tr>\n",
       "  </thead>\n",
       "  <tbody>\n",
       "    <tr>\n",
       "      <th>0</th>\n",
       "      <td>0</td>\n",
       "      <td>Mariusz</td>\n",
       "      <td>Nowak</td>\n",
       "      <td>5.0</td>\n",
       "    </tr>\n",
       "    <tr>\n",
       "      <th>1</th>\n",
       "      <td>1</td>\n",
       "      <td>Dariusz</td>\n",
       "      <td>Robak</td>\n",
       "      <td>50.0</td>\n",
       "    </tr>\n",
       "    <tr>\n",
       "      <th>2</th>\n",
       "      <td>2</td>\n",
       "      <td>Klaudiusz</td>\n",
       "      <td>Bobak</td>\n",
       "      <td>500.0</td>\n",
       "    </tr>\n",
       "    <tr>\n",
       "      <th>3</th>\n",
       "      <td>3</td>\n",
       "      <td>Bartosz</td>\n",
       "      <td>Kołpak</td>\n",
       "      <td>5000.0</td>\n",
       "    </tr>\n",
       "    <tr>\n",
       "      <th>4</th>\n",
       "      <td>4</td>\n",
       "      <td>Miłosz</td>\n",
       "      <td>Cwaniak</td>\n",
       "      <td>50000.0</td>\n",
       "    </tr>\n",
       "  </tbody>\n",
       "</table>\n",
       "</div>"
      ],
      "text/plain": [
       "   Unnamed: 0       Imię Nazwisko  Zaległość w PLN\n",
       "0           0    Mariusz    Nowak              5.0\n",
       "1           1    Dariusz    Robak             50.0\n",
       "2           2  Klaudiusz    Bobak            500.0\n",
       "3           3    Bartosz   Kołpak           5000.0\n",
       "4           4     Miłosz  Cwaniak          50000.0"
      ]
     },
     "execution_count": 113,
     "metadata": {},
     "output_type": "execute_result"
    }
   ],
   "source": [
    "df1"
   ]
  },
  {
   "cell_type": "code",
   "execution_count": 114,
   "id": "87986d1b",
   "metadata": {},
   "outputs": [
    {
     "data": {
      "text/html": [
       "<div>\n",
       "<style scoped>\n",
       "    .dataframe tbody tr th:only-of-type {\n",
       "        vertical-align: middle;\n",
       "    }\n",
       "\n",
       "    .dataframe tbody tr th {\n",
       "        vertical-align: top;\n",
       "    }\n",
       "\n",
       "    .dataframe thead th {\n",
       "        text-align: right;\n",
       "    }\n",
       "</style>\n",
       "<table border=\"1\" class=\"dataframe\">\n",
       "  <thead>\n",
       "    <tr style=\"text-align: right;\">\n",
       "      <th></th>\n",
       "      <th>Imię</th>\n",
       "      <th>Nazwisko</th>\n",
       "      <th>Zaległość w PLN</th>\n",
       "    </tr>\n",
       "  </thead>\n",
       "  <tbody>\n",
       "    <tr>\n",
       "      <th>0</th>\n",
       "      <td>Mariusz</td>\n",
       "      <td>Nowak</td>\n",
       "      <td>5</td>\n",
       "    </tr>\n",
       "    <tr>\n",
       "      <th>1</th>\n",
       "      <td>Dariusz</td>\n",
       "      <td>Robak</td>\n",
       "      <td>50</td>\n",
       "    </tr>\n",
       "    <tr>\n",
       "      <th>2</th>\n",
       "      <td>Klaudiusz</td>\n",
       "      <td>Bobak</td>\n",
       "      <td>500</td>\n",
       "    </tr>\n",
       "    <tr>\n",
       "      <th>3</th>\n",
       "      <td>Bartosz</td>\n",
       "      <td>Kołpak</td>\n",
       "      <td>5000</td>\n",
       "    </tr>\n",
       "    <tr>\n",
       "      <th>4</th>\n",
       "      <td>Miłosz</td>\n",
       "      <td>Cwaniak</td>\n",
       "      <td>50000</td>\n",
       "    </tr>\n",
       "  </tbody>\n",
       "</table>\n",
       "</div>"
      ],
      "text/plain": [
       "        Imię Nazwisko  Zaległość w PLN\n",
       "0    Mariusz    Nowak                5\n",
       "1    Dariusz    Robak               50\n",
       "2  Klaudiusz    Bobak              500\n",
       "3    Bartosz   Kołpak             5000\n",
       "4     Miłosz  Cwaniak            50000"
      ]
     },
     "execution_count": 114,
     "metadata": {},
     "output_type": "execute_result"
    }
   ],
   "source": [
    "df2 = pd.read_excel('dluznicy.xlsx')\n",
    "df2"
   ]
  },
  {
   "cell_type": "markdown",
   "id": "0fa6f76c",
   "metadata": {},
   "source": [
    "Wykonajmy jeszcze jedno proste zadanie ilustrujące możliwości. "
   ]
  },
  {
   "cell_type": "markdown",
   "id": "6a5f728b",
   "metadata": {},
   "source": [
    "**Zadanie 2.** Firma X chce za pół roku otworzyć nową filię w pewnym państwie, w której będzie pracować 1000 pracowników. Musi przygotować dla nich specjalne uniformy. Nie są jednak znane dane pracowników, a wiadomo, że uniformy są w 4 rozmiarach w zależności od wzrostu $h$ pracowników:\n",
    "\n",
    "- $h < 170$ cm - S,\n",
    "- $170 \\leq h < 180$ cm - M,\n",
    "- $180 \\leq h < 190$ cm - L,\n",
    "- $ h \\geq 190$ cm - XL.\n",
    "\n",
    "Wykonać kilka symulacji, zliczyć ilości poszczególnych rozmiarów i przekazać dane do pliku csv. Przy symulacjach przyjąć, że wzrost ma rozkład normalny z parametrami $\\mu =178$ cm, $\\sigma=8$ cm."
   ]
  },
  {
   "cell_type": "code",
   "execution_count": 171,
   "id": "d787506a",
   "metadata": {},
   "outputs": [
    {
     "data": {
      "text/plain": [
       "176.7113386451272"
      ]
     },
     "execution_count": 171,
     "metadata": {},
     "output_type": "execute_result"
    }
   ],
   "source": [
    "import random\n",
    "\n",
    "random.normalvariate(178, 8)"
   ]
  },
  {
   "cell_type": "code",
   "execution_count": 172,
   "id": "961bb38a",
   "metadata": {},
   "outputs": [],
   "source": [
    "height_list = [round(random.normalvariate(178, 8)) for i in range(1000)]\n",
    "ord_l = list(range(1000))"
   ]
  },
  {
   "cell_type": "code",
   "execution_count": 173,
   "id": "348c9466",
   "metadata": {},
   "outputs": [],
   "source": [
    "df = pd.DataFrame(data={'w_id':ord_l, 'height': height_list})"
   ]
  },
  {
   "cell_type": "code",
   "execution_count": 174,
   "id": "26257419",
   "metadata": {},
   "outputs": [],
   "source": [
    "def indicate_size(x):\n",
    "    if x < 170:\n",
    "        return 'S'\n",
    "    elif x < 180:\n",
    "        return 'M'\n",
    "    elif x < 190:\n",
    "        return 'L'\n",
    "    else:\n",
    "        return 'XL'\n",
    "\n",
    "df['size'] = df['height'].apply(indicate_size)"
   ]
  },
  {
   "cell_type": "code",
   "execution_count": 175,
   "id": "de03b83e",
   "metadata": {},
   "outputs": [
    {
     "data": {
      "text/html": [
       "<div>\n",
       "<style scoped>\n",
       "    .dataframe tbody tr th:only-of-type {\n",
       "        vertical-align: middle;\n",
       "    }\n",
       "\n",
       "    .dataframe tbody tr th {\n",
       "        vertical-align: top;\n",
       "    }\n",
       "\n",
       "    .dataframe thead th {\n",
       "        text-align: right;\n",
       "    }\n",
       "</style>\n",
       "<table border=\"1\" class=\"dataframe\">\n",
       "  <thead>\n",
       "    <tr style=\"text-align: right;\">\n",
       "      <th></th>\n",
       "      <th>w_id</th>\n",
       "      <th>height</th>\n",
       "      <th>size</th>\n",
       "    </tr>\n",
       "  </thead>\n",
       "  <tbody>\n",
       "    <tr>\n",
       "      <th>0</th>\n",
       "      <td>0</td>\n",
       "      <td>171</td>\n",
       "      <td>M</td>\n",
       "    </tr>\n",
       "    <tr>\n",
       "      <th>1</th>\n",
       "      <td>1</td>\n",
       "      <td>179</td>\n",
       "      <td>M</td>\n",
       "    </tr>\n",
       "    <tr>\n",
       "      <th>2</th>\n",
       "      <td>2</td>\n",
       "      <td>156</td>\n",
       "      <td>S</td>\n",
       "    </tr>\n",
       "    <tr>\n",
       "      <th>3</th>\n",
       "      <td>3</td>\n",
       "      <td>186</td>\n",
       "      <td>L</td>\n",
       "    </tr>\n",
       "    <tr>\n",
       "      <th>4</th>\n",
       "      <td>4</td>\n",
       "      <td>175</td>\n",
       "      <td>M</td>\n",
       "    </tr>\n",
       "    <tr>\n",
       "      <th>...</th>\n",
       "      <td>...</td>\n",
       "      <td>...</td>\n",
       "      <td>...</td>\n",
       "    </tr>\n",
       "    <tr>\n",
       "      <th>995</th>\n",
       "      <td>995</td>\n",
       "      <td>170</td>\n",
       "      <td>M</td>\n",
       "    </tr>\n",
       "    <tr>\n",
       "      <th>996</th>\n",
       "      <td>996</td>\n",
       "      <td>163</td>\n",
       "      <td>S</td>\n",
       "    </tr>\n",
       "    <tr>\n",
       "      <th>997</th>\n",
       "      <td>997</td>\n",
       "      <td>163</td>\n",
       "      <td>S</td>\n",
       "    </tr>\n",
       "    <tr>\n",
       "      <th>998</th>\n",
       "      <td>998</td>\n",
       "      <td>175</td>\n",
       "      <td>M</td>\n",
       "    </tr>\n",
       "    <tr>\n",
       "      <th>999</th>\n",
       "      <td>999</td>\n",
       "      <td>167</td>\n",
       "      <td>S</td>\n",
       "    </tr>\n",
       "  </tbody>\n",
       "</table>\n",
       "<p>1000 rows × 3 columns</p>\n",
       "</div>"
      ],
      "text/plain": [
       "     w_id  height size\n",
       "0       0     171    M\n",
       "1       1     179    M\n",
       "2       2     156    S\n",
       "3       3     186    L\n",
       "4       4     175    M\n",
       "..    ...     ...  ...\n",
       "995   995     170    M\n",
       "996   996     163    S\n",
       "997   997     163    S\n",
       "998   998     175    M\n",
       "999   999     167    S\n",
       "\n",
       "[1000 rows x 3 columns]"
      ]
     },
     "execution_count": 175,
     "metadata": {},
     "output_type": "execute_result"
    }
   ],
   "source": [
    "df"
   ]
  },
  {
   "cell_type": "code",
   "execution_count": 176,
   "id": "c1726251",
   "metadata": {},
   "outputs": [
    {
     "data": {
      "text/html": [
       "<div>\n",
       "<style scoped>\n",
       "    .dataframe tbody tr th:only-of-type {\n",
       "        vertical-align: middle;\n",
       "    }\n",
       "\n",
       "    .dataframe tbody tr th {\n",
       "        vertical-align: top;\n",
       "    }\n",
       "\n",
       "    .dataframe thead th {\n",
       "        text-align: right;\n",
       "    }\n",
       "</style>\n",
       "<table border=\"1\" class=\"dataframe\">\n",
       "  <thead>\n",
       "    <tr style=\"text-align: right;\">\n",
       "      <th></th>\n",
       "      <th>w_id</th>\n",
       "      <th>height</th>\n",
       "    </tr>\n",
       "  </thead>\n",
       "  <tbody>\n",
       "    <tr>\n",
       "      <th>count</th>\n",
       "      <td>1000.000000</td>\n",
       "      <td>1000.000000</td>\n",
       "    </tr>\n",
       "    <tr>\n",
       "      <th>mean</th>\n",
       "      <td>499.500000</td>\n",
       "      <td>178.043000</td>\n",
       "    </tr>\n",
       "    <tr>\n",
       "      <th>std</th>\n",
       "      <td>288.819436</td>\n",
       "      <td>8.301088</td>\n",
       "    </tr>\n",
       "    <tr>\n",
       "      <th>min</th>\n",
       "      <td>0.000000</td>\n",
       "      <td>153.000000</td>\n",
       "    </tr>\n",
       "    <tr>\n",
       "      <th>25%</th>\n",
       "      <td>249.750000</td>\n",
       "      <td>172.000000</td>\n",
       "    </tr>\n",
       "    <tr>\n",
       "      <th>50%</th>\n",
       "      <td>499.500000</td>\n",
       "      <td>178.000000</td>\n",
       "    </tr>\n",
       "    <tr>\n",
       "      <th>75%</th>\n",
       "      <td>749.250000</td>\n",
       "      <td>184.000000</td>\n",
       "    </tr>\n",
       "    <tr>\n",
       "      <th>max</th>\n",
       "      <td>999.000000</td>\n",
       "      <td>203.000000</td>\n",
       "    </tr>\n",
       "  </tbody>\n",
       "</table>\n",
       "</div>"
      ],
      "text/plain": [
       "              w_id       height\n",
       "count  1000.000000  1000.000000\n",
       "mean    499.500000   178.043000\n",
       "std     288.819436     8.301088\n",
       "min       0.000000   153.000000\n",
       "25%     249.750000   172.000000\n",
       "50%     499.500000   178.000000\n",
       "75%     749.250000   184.000000\n",
       "max     999.000000   203.000000"
      ]
     },
     "execution_count": 176,
     "metadata": {},
     "output_type": "execute_result"
    }
   ],
   "source": [
    "df.describe()"
   ]
  },
  {
   "cell_type": "code",
   "execution_count": 177,
   "id": "ed1e927b",
   "metadata": {},
   "outputs": [
    {
     "data": {
      "text/plain": [
       "M     421\n",
       "L     328\n",
       "S     159\n",
       "XL     92\n",
       "Name: size, dtype: int64"
      ]
     },
     "execution_count": 177,
     "metadata": {},
     "output_type": "execute_result"
    }
   ],
   "source": [
    "df['size'].value_counts()"
   ]
  },
  {
   "cell_type": "code",
   "execution_count": 157,
   "id": "f94a6b03",
   "metadata": {},
   "outputs": [],
   "source": [
    "df.to_csv('uniforms.csv', index=False)"
   ]
  },
  {
   "cell_type": "markdown",
   "id": "fc915c7a",
   "metadata": {},
   "source": [
    "Prosta symulacja pozwala (przy znajomości rozkładu) w miarę celnie przewidzieć zapotrzebowanie na nowe uniformy, porównać to ze swoimi zasobami, a następnie oszacować koszty, czy ogólnie podjąć odpowiednie decyzje biznesowe."
   ]
  },
  {
   "cell_type": "markdown",
   "id": "b9ef62ee",
   "metadata": {},
   "source": [
    "## Format YAMLE\n",
    "\n",
    "**YAMLE** (patrz <a href=\"https://pl.wikipedia.org/wiki/YAML\">Wikipedia</a>) kolejny format przeznaczony do przechowywania danych w ustrukuryzowany sposób.\n",
    "Poszczególne elementy struktury danych są w tym formacie oddzielane znakami nowej linii, a ich hierarchia ustalana jest na podstawie wcięcia linii. W YAMLE mamy trzy podstawowe struktury danych: listy, słowniki i skalary. Patrz także: https://yaml.org/.\n",
    "\n",
    "YAMLE miał w założeniu twórców realizować następujące cele:\n",
    "\n",
    "- YAML ma być czytelny dla człowieka.\n",
    "- YAML ma realizować struktury danych wbudowane w języki programowania.\n",
    "- Dokumenty YAML mają być przenośne pomiędzy językami programowania.\n",
    "- YAML ma być przyjazny dla typowych narzędzi do przetwarzania tekstu.\n",
    "- Dokument YAML ma być przetwarzany przez narzędzia w pojedynczym przejściu.\n",
    "- YAML ma mieć dużą siłę wyrazu i być łatwo rozszerzalny.\n",
    "- YAML ma być prosty w użyciu."
   ]
  },
  {
   "attachments": {
    "image.png": {
     "image/png": "[encoded data removed]"
    }
   },
   "cell_type": "markdown",
   "id": "40529948",
   "metadata": {},
   "source": [
    "Przykładowa postać pliku yml:\n",
    "\n",
    "![image.png](attachment:image.png)\n",
    "*źródło - Wikipedia*"
   ]
  },
  {
   "cell_type": "markdown",
   "id": "d88abf54",
   "metadata": {},
   "source": [
    "W plikach yml zapisywane są np. modele uczenia głębokiego (sieci neuronowe)."
   ]
  },
  {
   "cell_type": "markdown",
   "id": "3c3fe83e",
   "metadata": {},
   "source": [
    "## Zadania domowe\n",
    "\n",
    "**Zadanie 1.** (1 pkt.) Wykorzystując dane z zadania 1 z poprzedniego zestawu (dane sklepu w modelu xml) stworzyć podobny model danych w formacie JSON.\n",
    "\n",
    "**Zadanie 2.** (2 pkt.) Napisać prosty program, który pozwoli dodawać nowy asortyment do danych z zadania 1.\n",
    "\n",
    "**Zadanie 3.** (1 pkt.) Przygotowujesz pytania do quizu z wiedzy ogólnej. Skorzystaj z API bazy danych serwisu <a href=\"https://opentdb.com/api_config.php\">TRIVIA</a> i napisz kod do wygenerowania 15 pytań z wiedzy ogólnej na łatwym poziomie trudności. Jako output powinny pojawić się kolejne pytania i odpowiedzi.\n",
    "\n",
    "**Wskazówka.** Do polecenia *requests.get()* przekaż dane, które wydobędziesz z wygenerowanego linku wg następującego schematu: dla linku https://opentdb.com/api.php?amount=10&difficulty=medium&type=boolean - część do znaku zapytania (bez ?) to link przekazywany do *requests.get()*, zaś pozostałe dane oddzielone ampresandem to klucz (lewa strona znaku równości) i wartość (prawa strona równości), które należy dodać do słownika i przekazać do requesta.\n",
    "\n",
    "**Zadanie 4.** (1 pkt.) Utworzyć plik csv, który zawierać będzie fikcyjne dane $1000$ poborowych według schematu: numer poborowego, wzrost, waga, przyznana kategoria (A, B, C, D, E)."
   ]
  }
 ],
 "metadata": {
  "kernelspec": {
   "display_name": "Python 3 (ipykernel)",
   "language": "python",
   "name": "python3"
  },
  "language_info": {
   "codemirror_mode": {
    "name": "ipython",
    "version": 3
   },
   "file_extension": ".py",
   "mimetype": "text/x-python",
   "name": "python",
   "nbconvert_exporter": "python",
   "pygments_lexer": "ipython3",
   "version": "3.9.7"
  }
 },
 "nbformat": 4,
 "nbformat_minor": 5
}
