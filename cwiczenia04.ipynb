﻿{
 "cells": [
  {
   "cell_type": "markdown",
   "id": "026866ff",
   "metadata": {},
   "source": [
    "# Ćwiczenia 4  - XML "
   ]
  },
  {
   "cell_type": "markdown",
   "id": "82b99ed4",
   "metadata": {},
   "source": [
    "W naszych rozważaniach dotyczących informacji przechodzimy na poziom logiczny. Rozważać będziemy kilka podstawowych formatów. Pierwszym z nich będzie **XML**. Jest to język znaczników (z ang. *Extensible Markup Language*, czyli  *rozszerzalny język znaczników*) przeznaczony do reprezentowania różnych danych. XML jest standardem rekomendowanym oraz specyfikowanym przez organizację <a href=\"https://www.w3.org/\">W3C</a>. Jest najpopularniejszym obecnie uniwersalnym językiem przeznaczonym do reprezentowania danych. \n",
    "\n",
    "W prezentacji znajdują się podstawowe informacje dotyczące XMLa oraz proste ćwiczenie, w którym nauczymy się tworzyć pliki poprawne pliki XML oraz deklaracje DTD.\n",
    "\n",
    "Następnym krokiem będzie zautomatyzowanie procesu tworzenia plików XML oraz sczytywania ich zawartości. Posłużymy się tu dwiema bibliotekami Pythona.\n",
    "\n",
    "Pierwszą z nich będzie biblioteka *xml*. Wykorzystamy moduł *etree*, ściślej jego podmoduł *ElementTree* i klasę **Element** do stworzenia drzewa XML."
   ]
  },
  {
   "cell_type": "code",
   "execution_count": 44,
   "id": "4c08d2d1",
   "metadata": {},
   "outputs": [],
   "source": [
    "import xml"
   ]
  },
  {
   "cell_type": "code",
   "execution_count": 45,
   "id": "9a831493",
   "metadata": {},
   "outputs": [
    {
     "data": {
      "text/plain": [
       "['__all__',\n",
       " '__builtins__',\n",
       " '__cached__',\n",
       " '__doc__',\n",
       " '__file__',\n",
       " '__loader__',\n",
       " '__name__',\n",
       " '__package__',\n",
       " '__path__',\n",
       " '__spec__',\n",
       " 'dom',\n",
       " 'etree',\n",
       " 'parsers']"
      ]
     },
     "execution_count": 45,
     "metadata": {},
     "output_type": "execute_result"
    }
   ],
   "source": [
    "dir(xml)"
   ]
  },
  {
   "cell_type": "code",
   "execution_count": 46,
   "id": "7e88fb2a",
   "metadata": {},
   "outputs": [
    {
     "data": {
      "text/plain": [
       "['ElementPath',\n",
       " 'ElementTree',\n",
       " '__builtins__',\n",
       " '__cached__',\n",
       " '__doc__',\n",
       " '__file__',\n",
       " '__loader__',\n",
       " '__name__',\n",
       " '__package__',\n",
       " '__path__',\n",
       " '__spec__']"
      ]
     },
     "execution_count": 46,
     "metadata": {},
     "output_type": "execute_result"
    }
   ],
   "source": [
    "dir(xml.etree)"
   ]
  },
  {
   "cell_type": "code",
   "execution_count": 47,
   "id": "c0d57e50",
   "metadata": {},
   "outputs": [],
   "source": [
    "import xml.etree.ElementTree as ET"
   ]
  },
  {
   "cell_type": "code",
   "execution_count": 48,
   "id": "b4c66f84",
   "metadata": {},
   "outputs": [
    {
     "data": {
      "text/plain": [
       "['C14NWriterTarget',\n",
       " 'Comment',\n",
       " 'Element',\n",
       " 'ElementPath',\n",
       " 'ElementTree',\n",
       " 'HTML_EMPTY',\n",
       " 'PI',\n",
       " 'ParseError',\n",
       " 'ProcessingInstruction',\n",
       " 'QName',\n",
       " 'SubElement',\n",
       " 'TreeBuilder',\n",
       " 'VERSION',\n",
       " 'XML',\n",
       " 'XMLID',\n",
       " 'XMLParser',\n",
       " 'XMLPullParser',\n",
       " '_Element_Py',\n",
       " '_ListDataStream',\n",
       " '__all__',\n",
       " '__builtins__',\n",
       " '__cached__',\n",
       " '__doc__',\n",
       " '__file__',\n",
       " '__loader__',\n",
       " '__name__',\n",
       " '__package__',\n",
       " '__spec__',\n",
       " '_escape_attrib',\n",
       " '_escape_attrib_c14n',\n",
       " '_escape_attrib_html',\n",
       " '_escape_cdata',\n",
       " '_escape_cdata_c14n',\n",
       " '_get_writer',\n",
       " '_looks_like_prefix_name',\n",
       " '_namespace_map',\n",
       " '_namespaces',\n",
       " '_raise_serialization_error',\n",
       " '_serialize',\n",
       " '_serialize_html',\n",
       " '_serialize_text',\n",
       " '_serialize_xml',\n",
       " '_set_factories',\n",
       " 'canonicalize',\n",
       " 'collections',\n",
       " 'contextlib',\n",
       " 'dump',\n",
       " 'fromstring',\n",
       " 'fromstringlist',\n",
       " 'indent',\n",
       " 'io',\n",
       " 'iselement',\n",
       " 'iterparse',\n",
       " 'parse',\n",
       " 're',\n",
       " 'register_namespace',\n",
       " 'sys',\n",
       " 'tostring',\n",
       " 'tostringlist',\n",
       " 'warnings']"
      ]
     },
     "execution_count": 48,
     "metadata": {},
     "output_type": "execute_result"
    }
   ],
   "source": [
    "dir(ET)"
   ]
  },
  {
   "cell_type": "markdown",
   "id": "88603008",
   "metadata": {},
   "source": [
    "Schemat pracy z modułem **xml.etree.ElementTree** do tworzenia drzewa xml."
   ]
  },
  {
   "cell_type": "code",
   "execution_count": 5,
   "id": "b399ee1f",
   "metadata": {},
   "outputs": [],
   "source": [
    "# Element główny\n",
    "root = ET.Element('root')\n",
    "\n",
    "# tworzenie kolejnego elementu\n",
    "child = ET.SubElement(root, 'child')\n",
    "child.text = 'This is the child element'\n",
    "\n",
    "\n",
    "child2 = ET.SubElement(root, 'child2')\n",
    "child2.text = 'This is the second child element'\n",
    "\n",
    "# utworzenie drzewa XML\n",
    "tree = ET.ElementTree(root)\n",
    "\n",
    "# zapisanie do pliku\n",
    "tree.write('example.xml')"
   ]
  },
  {
   "cell_type": "markdown",
   "id": "dc9e3d96",
   "metadata": {},
   "source": [
    "Spróbujmy wykonać podobne zadanie jak wcześniej - tworzenie biblioteki."
   ]
  },
  {
   "cell_type": "code",
   "execution_count": 10,
   "id": "04f2141e",
   "metadata": {},
   "outputs": [],
   "source": [
    "TODO"
   ]
  },
  {
   "cell_type": "code",
   "execution_count": 16,
   "id": "14b02896",
   "metadata": {},
   "outputs": [
    {
     "data": {
      "text/plain": [
       "[<Element 'book' at 0x000002344B966130>,\n",
       " <Element 'book' at 0x000002344B9662C0>]"
      ]
     },
     "execution_count": 16,
     "metadata": {},
     "output_type": "execute_result"
    }
   ],
   "source": [
    "tree.findall('book')"
   ]
  },
  {
   "cell_type": "markdown",
   "id": "72be4fc7",
   "metadata": {},
   "source": [
    "Jedną z podstawowych struktur danych w Pythonie jest **słownik** (**dict**). O słowniku wspominaliśmy już na poprzednich zajęciach. Przypomina on nieco listę, z tym, że do  elementów słownika (wartości) odwołujemy się za pomocą klucza. Mamy zatem pary \n",
    "\n",
    "$$\n",
    "\\operatorname{my\\_dictionary} = \\{key1: value1, key2:value2,\\dots\\}\n",
    "$$\n",
    "\n",
    "Do wartości odwołujemy dostęp mamy za pomocą klucza:\n",
    "\n",
    "$\\operatorname{my\\_dictionary}[key1]$ przechowuje wartość $value1$.\n",
    "\n",
    "Wartością słownika może być inna struktura - lista, krotka, słownik, etc."
   ]
  },
  {
   "cell_type": "code",
   "execution_count": 49,
   "id": "2afe1bd5",
   "metadata": {},
   "outputs": [],
   "source": [
    "books = {\n",
    "    'b_1': {'title': 'Analiza matematyczna - zbior zadan',  \n",
    "            'authors': ['Krysicki', 'Wlodarski'], \n",
    "            'domain': 'Analiza matematyczna'},\n",
    "    \n",
    "    'b_2': {'title': 'Zbior zadan z analizy matematycznej',  \n",
    "            'authors': ['Banas', 'Wedrychowicz'], \n",
    "            'domain': 'Analiza matematyczna'},  \n",
    "    \n",
    " \n",
    "    'b_3': {'title': 'Data Science od podstaw',  \n",
    "            'authors': ['Grus'], \n",
    "            'domain': 'Informatyka'}, \n",
    "    \n",
    "    'b_4': {'title': 'Rzecz o istocie informatyki',  \n",
    "            'authors': ['Harel'], \n",
    "            'domain': 'Informatyka'}, \n",
    "    \n",
    "    'b_5': {'title': 'Composition operators',  \n",
    "            'authors': ['Shapiro'], \n",
    "            'domain': 'Analiza zespolona'}\n",
    "}\n",
    "\n",
    "\n"
   ]
  },
  {
   "cell_type": "markdown",
   "id": "3e2f5779",
   "metadata": {},
   "source": [
    "Iterowanie po słowniku."
   ]
  },
  {
   "cell_type": "code",
   "execution_count": 18,
   "id": "2bbe91e0",
   "metadata": {},
   "outputs": [
    {
     "name": "stdout",
     "output_type": "stream",
     "text": [
      "b_1\n",
      "b_2\n",
      "b_3\n",
      "b_4\n",
      "b_5\n"
     ]
    }
   ],
   "source": [
    "for k in books:\n",
    "    print(k)"
   ]
  },
  {
   "cell_type": "code",
   "execution_count": 19,
   "id": "e18984b9",
   "metadata": {},
   "outputs": [
    {
     "name": "stdout",
     "output_type": "stream",
     "text": [
      "b_1\n",
      "b_2\n",
      "b_3\n",
      "b_4\n",
      "b_5\n"
     ]
    }
   ],
   "source": [
    "for k in books.keys():\n",
    "    print(k)"
   ]
  },
  {
   "cell_type": "code",
   "execution_count": 20,
   "id": "b2ef2d49",
   "metadata": {},
   "outputs": [
    {
     "name": "stdout",
     "output_type": "stream",
     "text": [
      "Klucz - b_1, wartość - {'title': 'Analiza matematyczna - zbiór zadań', 'authors': ['Krysicki', 'Włodarski'], 'domain': 'Analiza matematyczna'}\n",
      "Klucz - b_2, wartość - {'title': 'Zbiór zadań z analizy matematycznej', 'authors': ['Banaś', 'Wędrychowicz'], 'domain': 'Analiza matematyczna'}\n",
      "Klucz - b_3, wartość - {'title': 'Data Science od podstaw', 'authors': ['Grus'], 'domain': 'Informatyka'}\n",
      "Klucz - b_4, wartość - {'title': 'Rzecz o istocie informatyki', 'authors': ['Harel'], 'domain': 'Informatyka'}\n",
      "Klucz - b_5, wartość - {'title': 'Composition operators', 'authors': ['Shapiro'], 'domain': 'Analiza zespolona'}\n"
     ]
    }
   ],
   "source": [
    "for k, v in books.items():\n",
    "    print(f'Klucz - {k}, wartość - {v}')"
   ]
  },
  {
   "cell_type": "code",
   "execution_count": 21,
   "id": "fd78e5ce",
   "metadata": {},
   "outputs": [
    {
     "name": "stdout",
     "output_type": "stream",
     "text": [
      "Klucz - b_1, wartość - {'title': 'Analiza matematyczna - zbiór zadań', 'authors': ['Krysicki', 'Włodarski'], 'domain': 'Analiza matematyczna'}\n",
      "Klucz - b_2, wartość - {'title': 'Zbiór zadań z analizy matematycznej', 'authors': ['Banaś', 'Wędrychowicz'], 'domain': 'Analiza matematyczna'}\n",
      "Klucz - b_3, wartość - {'title': 'Data Science od podstaw', 'authors': ['Grus'], 'domain': 'Informatyka'}\n",
      "Klucz - b_4, wartość - {'title': 'Rzecz o istocie informatyki', 'authors': ['Harel'], 'domain': 'Informatyka'}\n",
      "Klucz - b_5, wartość - {'title': 'Composition operators', 'authors': ['Shapiro'], 'domain': 'Analiza zespolona'}\n"
     ]
    }
   ],
   "source": [
    "for k in books:\n",
    "    print(f'Klucz - {k}, wartość - {books[k]}')"
   ]
  },
  {
   "cell_type": "code",
   "execution_count": 51,
   "id": "741f8e77",
   "metadata": {},
   "outputs": [
    {
     "data": {
      "text/plain": [
       "('Analiza matematyczna - zbior zadan', 'Analiza matematyczna', ['Shapiro'])"
      ]
     },
     "execution_count": 51,
     "metadata": {},
     "output_type": "execute_result"
    }
   ],
   "source": [
    "books['b_1']['title'], books['b_2']['domain'], books['b_5']['authors']"
   ]
  },
  {
   "cell_type": "code",
   "execution_count": 23,
   "id": "2f3532ff",
   "metadata": {},
   "outputs": [
    {
     "name": "stdout",
     "output_type": "stream",
     "text": [
      "Klucz (zewnętrzny) - b_1\n",
      "Klucz (wewnętrzny) - title, wartość - Analiza matematyczna - zbiór zadań\n",
      "Klucz (wewnętrzny) - authors, wartość - ['Krysicki', 'Włodarski']\n",
      "Klucz (wewnętrzny) - domain, wartość - Analiza matematyczna\n",
      "Klucz (zewnętrzny) - b_2\n",
      "Klucz (wewnętrzny) - title, wartość - Zbiór zadań z analizy matematycznej\n",
      "Klucz (wewnętrzny) - authors, wartość - ['Banaś', 'Wędrychowicz']\n",
      "Klucz (wewnętrzny) - domain, wartość - Analiza matematyczna\n",
      "Klucz (zewnętrzny) - b_3\n",
      "Klucz (wewnętrzny) - title, wartość - Data Science od podstaw\n",
      "Klucz (wewnętrzny) - authors, wartość - ['Grus']\n",
      "Klucz (wewnętrzny) - domain, wartość - Informatyka\n",
      "Klucz (zewnętrzny) - b_4\n",
      "Klucz (wewnętrzny) - title, wartość - Rzecz o istocie informatyki\n",
      "Klucz (wewnętrzny) - authors, wartość - ['Harel']\n",
      "Klucz (wewnętrzny) - domain, wartość - Informatyka\n",
      "Klucz (zewnętrzny) - b_5\n",
      "Klucz (wewnętrzny) - title, wartość - Composition operators\n",
      "Klucz (wewnętrzny) - authors, wartość - ['Shapiro']\n",
      "Klucz (wewnętrzny) - domain, wartość - Analiza zespolona\n"
     ]
    }
   ],
   "source": [
    "for k in books.keys():\n",
    "    print(f'Klucz (zewnętrzny) - {k}')\n",
    "    for k1, v1 in books[k].items():      \n",
    "        print(f'Klucz (wewnętrzny) - {k1}, wartość - {v1}')"
   ]
  },
  {
   "cell_type": "code",
   "execution_count": 24,
   "id": "14272679",
   "metadata": {},
   "outputs": [
    {
     "name": "stdout",
     "output_type": "stream",
     "text": [
      "Klucz (zewnętrzny) - b_1\n",
      "Klucz (wewnętrzny) - title, wartość - Analiza matematyczna - zbiór zadań\n",
      "Klucz (wewnętrzny) - authors, wartość - ['Krysicki', 'Włodarski']\n",
      "Klucz (wewnętrzny) - domain, wartość - Analiza matematyczna\n",
      "Klucz (zewnętrzny) - b_2\n",
      "Klucz (wewnętrzny) - title, wartość - Zbiór zadań z analizy matematycznej\n",
      "Klucz (wewnętrzny) - authors, wartość - ['Banaś', 'Wędrychowicz']\n",
      "Klucz (wewnętrzny) - domain, wartość - Analiza matematyczna\n",
      "Klucz (zewnętrzny) - b_3\n",
      "Klucz (wewnętrzny) - title, wartość - Data Science od podstaw\n",
      "Klucz (wewnętrzny) - authors, wartość - ['Grus']\n",
      "Klucz (wewnętrzny) - domain, wartość - Informatyka\n",
      "Klucz (zewnętrzny) - b_4\n",
      "Klucz (wewnętrzny) - title, wartość - Rzecz o istocie informatyki\n",
      "Klucz (wewnętrzny) - authors, wartość - ['Harel']\n",
      "Klucz (wewnętrzny) - domain, wartość - Informatyka\n",
      "Klucz (zewnętrzny) - b_5\n",
      "Klucz (wewnętrzny) - title, wartość - Composition operators\n",
      "Klucz (wewnętrzny) - authors, wartość - ['Shapiro']\n",
      "Klucz (wewnętrzny) - domain, wartość - Analiza zespolona\n"
     ]
    }
   ],
   "source": [
    "for k, v in books.items():\n",
    "    print(f'Klucz (zewnętrzny) - {k}')\n",
    "    for k1, v1 in v.items():      \n",
    "        print(f'Klucz (wewnętrzny) - {k1}, wartość - {v1}')"
   ]
  },
  {
   "cell_type": "markdown",
   "id": "12430676",
   "metadata": {},
   "source": [
    "**Zadanie.** Utwórz (automatycznie) drzewo XML wykorzystując dane ze słownika books. Utworzone dane zapisz w pliku."
   ]
  },
  {
   "cell_type": "code",
   "execution_count": 37,
   "id": "8e8af0e5",
   "metadata": {},
   "outputs": [],
   "source": [
   	"TODO"
   ]
  },
  {
   "cell_type": "markdown",
   "id": "dedf89a7",
   "metadata": {},
   "source": [
    "Innym narzędziem do pracy z XML (również z HTML) jest biblioteka **bs4**. Jest ona szczególnie przydatna, gdy chcemy np. wydobyć dane z pliku XML i przedstawić je w innym formacie. Plik XML może mieć dużą objętość oraz skomplikowaną strukturę, wtedy wydobycie danych z takiego pliku jest możliwe właściwie tylko przy użyciu tego typu narzędzi."
   ]
  },
  {
   "cell_type": "code",
   "execution_count": 50,
   "id": "486daa7f",
   "metadata": {},
   "outputs": [],
   "source": [
    "from bs4 import BeautifulSoup"
   ]
  },
  {
   "cell_type": "markdown",
   "id": "204f868a",
   "metadata": {},
   "source": [
    "Załadujmy utworzony plik `biblioteka.xml`."
   ]
  },
  {
   "cell_type": "code",
   "execution_count": 52,
   "id": "ebc96e0d",
   "metadata": {},
   "outputs": [],
   "source": [
    "with open('biblioteka.xml', 'r') as file:\n",
    "    data = file.read()"
   ]
  },
  {
   "cell_type": "code",
   "execution_count": 53,
   "id": "4bb1e24e",
   "metadata": {},
   "outputs": [
    {
     "data": {
      "text/plain": [
       "'<biblioteka><book><book_id>b_1</book_id><title>Analiza matematyczna - zbior zadan</title><authors>Krysicki</authors><authors>W;odarski</authors><domain>Analiza matematyczna</domain></book><book><book_id>b_2</book_id><title>Zbior zadan z analizy matematycznej</title><authors>Banas</authors><authors>Wedrychowicz</authors><domain>Analiza matematyczna</domain></book><book><book_id>b_3</book_id><title>Data Science od podstaw</title><authors>Grus</authors><domain>Informatyka</domain></book><book><book_id>b_4</book_id><title>Rzecz o istocie informatyki</title><authors>Harel</authors><domain>Informatyka</domain></book><book><book_id>b_5</book_id><title>Composition operators</title><authors>Shapiro</authors><domain>Analiza zespolona</domain></book></biblioteka>'"
      ]
     },
     "execution_count": 53,
     "metadata": {},
     "output_type": "execute_result"
    }
   ],
   "source": [
    "data"
   ]
  },
  {
   "cell_type": "markdown",
   "id": "d1909f40",
   "metadata": {},
   "source": [
    "Nawet taki prosty plik jak `biblioteka.xml` w powyższej postaci jest mało czytelny. Spróbujmy nieco \"ładniej\" zaprezentować te dane. W tym celu utwórzmy instancję klasy (obiekt) `BeautifulSoup`. W tym celu musimy przekazać dwa parametry - parsowany tekst oraz rodzaj parsera."
   ]
  },
  {
   "cell_type": "code",
   "execution_count": 81,
   "id": "216c89ec",
   "metadata": {},
   "outputs": [],
   "source": [
    "soup = BeautifulSoup(data, 'xml')"
   ]
  },
  {
   "cell_type": "markdown",
   "id": "97edbf68",
   "metadata": {},
   "source": [
    "Pierwsza z metod umożliwi nam \"upiększyć\" podgląd źródła."
   ]
  },
  {
   "cell_type": "code",
   "execution_count": 82,
   "id": "a60cfd17",
   "metadata": {},
   "outputs": [
    {
     "data": {
      "text/plain": [
       "'<?xml version=\"1.0\" encoding=\"utf-8\"?>\\n<biblioteka>\\n <book>\\n  <book_id>\\n   b_1\\n  </book_id>\\n  <title>\\n   Analiza matematyczna - zbior zadan\\n  </title>\\n  <authors>\\n   Krysicki\\n  </authors>\\n  <authors>\\n   W;odarski\\n  </authors>\\n  <domain>\\n   Analiza matematyczna\\n  </domain>\\n </book>\\n <book>\\n  <book_id>\\n   b_2\\n  </book_id>\\n  <title>\\n   Zbior zadan z analizy matematycznej\\n  </title>\\n  <authors>\\n   Banas\\n  </authors>\\n  <authors>\\n   Wedrychowicz\\n  </authors>\\n  <domain>\\n   Analiza matematyczna\\n  </domain>\\n </book>\\n <book>\\n  <book_id>\\n   b_3\\n  </book_id>\\n  <title>\\n   Data Science od podstaw\\n  </title>\\n  <authors>\\n   Grus\\n  </authors>\\n  <domain>\\n   Informatyka\\n  </domain>\\n </book>\\n <book>\\n  <book_id>\\n   b_4\\n  </book_id>\\n  <title>\\n   Rzecz o istocie informatyki\\n  </title>\\n  <authors>\\n   Harel\\n  </authors>\\n  <domain>\\n   Informatyka\\n  </domain>\\n </book>\\n <book>\\n  <book_id>\\n   b_5\\n  </book_id>\\n  <title>\\n   Composition operators\\n  </title>\\n  <authors>\\n   Shapiro\\n  </authors>\\n  <domain>\\n   Analiza zespolona\\n  </domain>\\n </book>\\n</biblioteka>'"
      ]
     },
     "execution_count": 82,
     "metadata": {},
     "output_type": "execute_result"
    }
   ],
   "source": [
    "soup.prettify()"
   ]
  },
  {
   "cell_type": "markdown",
   "id": "785031ac",
   "metadata": {},
   "source": [
    "Czy coś się wydarzyło? Sprawdźmy tak:"
   ]
  },
  {
   "cell_type": "code",
   "execution_count": 83,
   "id": "443773f1",
   "metadata": {},
   "outputs": [
    {
     "name": "stdout",
     "output_type": "stream",
     "text": [
      "<?xml version=\"1.0\" encoding=\"utf-8\"?>\n",
      "<biblioteka>\n",
      " <book>\n",
      "  <book_id>\n",
      "   b_1\n",
      "  </book_id>\n",
      "  <title>\n",
      "   Analiza matematyczna - zbior zadan\n",
      "  </title>\n",
      "  <authors>\n",
      "   Krysicki\n",
      "  </authors>\n",
      "  <authors>\n",
      "   W;odarski\n",
      "  </authors>\n",
      "  <domain>\n",
      "   Analiza matematyczna\n",
      "  </domain>\n",
      " </book>\n",
      " <book>\n",
      "  <book_id>\n",
      "   b_2\n",
      "  </book_id>\n",
      "  <title>\n",
      "   Zbior zadan z analizy matematycznej\n",
      "  </title>\n",
      "  <authors>\n",
      "   Banas\n",
      "  </authors>\n",
      "  <authors>\n",
      "   Wedrychowicz\n",
      "  </authors>\n",
      "  <domain>\n",
      "   Analiza matematyczna\n",
      "  </domain>\n",
      " </book>\n",
      " <book>\n",
      "  <book_id>\n",
      "   b_3\n",
      "  </book_id>\n",
      "  <title>\n",
      "   Data Science od podstaw\n",
      "  </title>\n",
      "  <authors>\n",
      "   Grus\n",
      "  </authors>\n",
      "  <domain>\n",
      "   Informatyka\n",
      "  </domain>\n",
      " </book>\n",
      " <book>\n",
      "  <book_id>\n",
      "   b_4\n",
      "  </book_id>\n",
      "  <title>\n",
      "   Rzecz o istocie informatyki\n",
      "  </title>\n",
      "  <authors>\n",
      "   Harel\n",
      "  </authors>\n",
      "  <domain>\n",
      "   Informatyka\n",
      "  </domain>\n",
      " </book>\n",
      " <book>\n",
      "  <book_id>\n",
      "   b_5\n",
      "  </book_id>\n",
      "  <title>\n",
      "   Composition operators\n",
      "  </title>\n",
      "  <authors>\n",
      "   Shapiro\n",
      "  </authors>\n",
      "  <domain>\n",
      "   Analiza zespolona\n",
      "  </domain>\n",
      " </book>\n",
      "</biblioteka>\n"
     ]
    }
   ],
   "source": [
    "print(soup.prettify())"
   ]
  },
  {
   "cell_type": "markdown",
   "id": "19e187f6",
   "metadata": {},
   "source": [
    "Do przeszukiwania danych wykorzystuje się metody `find` lub `find_all`."
   ]
  },
  {
   "cell_type": "code",
   "execution_count": 84,
   "id": "1b307fbf",
   "metadata": {},
   "outputs": [
    {
     "data": {
      "text/plain": [
       "<book><book_id>b_1</book_id><title>Analiza matematyczna - zbior zadan</title><authors>Krysicki</authors><authors>W;odarski</authors><domain>Analiza matematyczna</domain></book>"
      ]
     },
     "execution_count": 84,
     "metadata": {},
     "output_type": "execute_result"
    }
   ],
   "source": [
    "soup.find('book')"
   ]
  },
  {
   "cell_type": "code",
   "execution_count": 85,
   "id": "414a0ec4",
   "metadata": {},
   "outputs": [
    {
     "data": {
      "text/plain": [
       "[<book><book_id>b_1</book_id><title>Analiza matematyczna - zbior zadan</title><authors>Krysicki</authors><authors>W;odarski</authors><domain>Analiza matematyczna</domain></book>,\n",
       " <book><book_id>b_2</book_id><title>Zbior zadan z analizy matematycznej</title><authors>Banas</authors><authors>Wedrychowicz</authors><domain>Analiza matematyczna</domain></book>,\n",
       " <book><book_id>b_3</book_id><title>Data Science od podstaw</title><authors>Grus</authors><domain>Informatyka</domain></book>,\n",
       " <book><book_id>b_4</book_id><title>Rzecz o istocie informatyki</title><authors>Harel</authors><domain>Informatyka</domain></book>,\n",
       " <book><book_id>b_5</book_id><title>Composition operators</title><authors>Shapiro</authors><domain>Analiza zespolona</domain></book>]"
      ]
     },
     "execution_count": 85,
     "metadata": {},
     "output_type": "execute_result"
    }
   ],
   "source": [
    "soup.find_all('book')"
   ]
  },
  {
   "cell_type": "markdown",
   "id": "04a4f53a",
   "metadata": {},
   "source": [
    "Widzimy, że `find` wskazuje nam pierwszy napotkany element `book`. Z kolei `find_all` przechowuje wszystkie takie elementy w liście. A jak podejrzeć zawartość (tekstową) danego elementu?"
   ]
  },
  {
   "cell_type": "code",
   "execution_count": 92,
   "id": "c7f949cf",
   "metadata": {},
   "outputs": [
    {
     "data": {
      "text/plain": [
       "'b_1Analiza matematyczna - zbior zadanKrysickiW;odarskiAnaliza matematyczna'"
      ]
     },
     "execution_count": 92,
     "metadata": {},
     "output_type": "execute_result"
    }
   ],
   "source": [
    "b1 = soup.find('book')\n",
    "b1.getText()"
   ]
  },
  {
   "cell_type": "code",
   "execution_count": 94,
   "id": "27c41ac5",
   "metadata": {},
   "outputs": [
    {
     "data": {
      "text/plain": [
       "'Analiza matematyczna - zbior zadan'"
      ]
     },
     "execution_count": 94,
     "metadata": {},
     "output_type": "execute_result"
    }
   ],
   "source": [
    "t1 = soup.find('title')\n",
    "t1.getText()"
   ]
  },
  {
   "cell_type": "markdown",
   "id": "b00284d1",
   "metadata": {},
   "source": [
    "Wyciągnijmy zatem dane z naszego pliku."
   ]
  },
  {
   "cell_type": "code",
   "execution_count": 107,
   "id": "45225645",
   "metadata": {},
   "outputs": [],
   "source": [
    "b_id_l = soup.find_all('book_id')\n",
    "title_list = soup.find_all('title')\n",
    "authors_list = soup.find_all('authors')\n",
    "domain_list = soup.find_all('domain')"
   ]
  },
  {
   "cell_type": "markdown",
   "id": "7e3c8b54",
   "metadata": {},
   "source": [
    "Element `title_list` nie jest listą!"
   ]
  },
  {
   "cell_type": "code",
   "execution_count": 106,
   "id": "a12371aa",
   "metadata": {},
   "outputs": [
    {
     "data": {
      "text/plain": [
       "bs4.element.ResultSet"
      ]
     },
     "execution_count": 106,
     "metadata": {},
     "output_type": "execute_result"
    }
   ],
   "source": [
    "type(title_list)"
   ]
  },
  {
   "cell_type": "code",
   "execution_count": 111,
   "id": "db315ae5",
   "metadata": {},
   "outputs": [
    {
     "name": "stdout",
     "output_type": "stream",
     "text": [
      "**************************\n",
      "idki:\n",
      "b_1\n",
      "b_2\n",
      "b_3\n",
      "b_4\n",
      "b_5\n",
      "**************************\n",
      "tytuły:\n",
      "Analiza matematyczna - zbior zadan\n",
      "Zbior zadan z analizy matematycznej\n",
      "Data Science od podstaw\n",
      "Rzecz o istocie informatyki\n",
      "Composition operators\n",
      "**************************\n",
      "autorzy:\n",
      "Krysicki\n",
      "W;odarski\n",
      "Banas\n",
      "Wedrychowicz\n",
      "Grus\n",
      "Harel\n",
      "Shapiro\n",
      "**************************\n",
      "dziedziny:\n",
      "Analiza matematyczna\n",
      "Analiza matematyczna\n",
      "Informatyka\n",
      "Informatyka\n",
      "Analiza zespolona\n"
     ]
    }
   ],
   "source": [
    "print('**************************')\n",
    "print('idki:')\n",
    "for el in b_id_l:\n",
    "    print(el.getText())\n",
    "\n",
    "print('**************************')\n",
    "print('tytuły:')\n",
    "    \n",
    "for el in title_list:\n",
    "    print(el.getText())\n",
    "\n",
    "print('**************************')\n",
    "print('autorzy:')\n",
    "    \n",
    "for el in authors_list:\n",
    "    print(el.getText())\n",
    "\n",
    "print('**************************')\n",
    "print('dziedziny:')\n",
    "    \n",
    "for el in domain_list:\n",
    "    print(el.getText())"
   ]
  },
  {
   "cell_type": "markdown",
   "id": "bc9b1441",
   "metadata": {},
   "source": [
    "\n",
    "**Zadanie.** Widzimy, że z tego względu, że możemy mieć wielu autorów książki, nie możemy połączyć w ten sposób danych otrzymując kompletną informację o książce zapisaną w bazie. Moglibyśmy to zrobić albo zmieniając model przechowywania danych - wielu autorów w jednym elemencie XML lub inaczej użyć obiektu `soup`. Jak?"
   ]
  },
  {
   "cell_type": "code",
   "execution_count": 113,
   "id": "9d565739",
   "metadata": {},
   "outputs": [
    {
     "data": {
      "text/plain": [
       "<book><book_id>b_1</book_id><title>Analiza matematyczna - zbior zadan</title><authors>Krysicki</authors><authors>W;odarski</authors><domain>Analiza matematyczna</domain></book>"
      ]
     },
     "execution_count": 113,
     "metadata": {},
     "output_type": "execute_result"
    }
   ],
   "source": [
    "book_list = soup.find_all('book')\n",
    "book_list[0]"
   ]
  },
  {
   "cell_type": "code",
   "execution_count": 123,
   "id": "60561199",
   "metadata": {},
   "outputs": [
    {
     "data": {
      "text/plain": [
       "[('b_1',\n",
       "  'Analiza matematyczna - zbior zadan',\n",
       "  ['Krysicki', 'W;odarski'],\n",
       "  'Analiza matematyczna'),\n",
       " ('b_2',\n",
       "  'Zbior zadan z analizy matematycznej',\n",
       "  ['Banas', 'Wedrychowicz'],\n",
       "  'Analiza matematyczna'),\n",
       " ('b_3', 'Data Science od podstaw', ['Grus'], 'Informatyka'),\n",
       " ('b_4', 'Rzecz o istocie informatyki', ['Harel'], 'Informatyka'),\n",
       " ('b_5', 'Composition operators', ['Shapiro'], 'Analiza zespolona')]"
      ]
     },
     "execution_count": 123,
     "metadata": {},
     "output_type": "execute_result"
    }
   ],
   "source": [
    "all_informations = []\n",
    "\n",
    "for el in book_list:\n",
    "    idd = el.find('book_id').getText()\n",
    "    title = el.find('title').getText()\n",
    "    domain = el.find('domain').getText()\n",
    "    auth_l = el.find_all('authors')\n",
    "    auth_text = []\n",
    "    for e in auth_l:\n",
    "        aut = e.getText()\n",
    "        auth_text.append(aut)\n",
    "    all_informations.append((idd, title, auth_text, domain))\n",
    "all_informations"
   ]
  },
  {
   "cell_type": "markdown",
   "id": "4f6ae703",
   "metadata": {},
   "source": [
    "## Zadania domowe\n",
    "\n",
    "**Zadanie 1.** (1 pkt.) Zaprojektuj model danych, które mogą być przechowywane przez sklep. Sklep posiada kilka działów. Każdy dział posiada półki z towarami innego typu, np. “spożywcze”, “papiernicze”, “odzież”.\n",
    "\n",
    "1.\tZaprojektuj model danych analogicznie, jak w przypadku biblioteki. \n",
    "2.\tZaprojektuj co najmniej trzy typy produktów. \n",
    "\n",
    "W zadaniu przygotuj plik XML z wewnętrznym schematem DTD.\n",
    "\n",
    "**Zadanie 2.** (1 pkt.) Za pomocą biblioteki `bs4` przeszukaj w pętli plik utworzony w zadaniu podając informacje o produktach dostępnych na określonych półkach.\n",
    "\n",
    "\n",
    "**Zadanie 3.** (2 pkt.) Napisz w Pythonie program z prostym interfejsem (konsola), który pozwoli pracownikowi biblioteki dopisać do bazy (plik XML) nową pozycję (book_id, tytuł, autorzy, dziedzina tematyczna)."
   ]
  },
  {
   "cell_type": "code",
   "execution_count": null,
   "id": "07544db6",
   "metadata": {},
   "outputs": [],
   "source": []
  }
 ],
 "metadata": {
  "kernelspec": {
   "display_name": "Python 3 (ipykernel)",
   "language": "python",
   "name": "python3"
  },
  "language_info": {
   "codemirror_mode": {
    "name": "ipython",
    "version": 3
   },
   "file_extension": ".py",
   "mimetype": "text/x-python",
   "name": "python",
   "nbconvert_exporter": "python",
   "pygments_lexer": "ipython3",
   "version": "3.9.7"
  }
 },
 "nbformat": 4,
 "nbformat_minor": 5
}
